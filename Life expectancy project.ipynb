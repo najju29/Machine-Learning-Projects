{
 "cells": [
  {
   "cell_type": "markdown",
   "metadata": {},
   "source": [
    "# Life Expectancy Project"
   ]
  },
  {
   "cell_type": "markdown",
   "metadata": {},
   "source": [
    "We are going to use Life expectancy Dataset provided by the WHO to predict the life expextancy of an individual depending on the Factors affecting it."
   ]
  },
  {
   "cell_type": "markdown",
   "metadata": {},
   "source": [
    "Dataset source: KAGGLE"
   ]
  },
  {
   "cell_type": "markdown",
   "metadata": {},
   "source": [
    "Let's import the important libraries to operate the data."
   ]
  },
  {
   "cell_type": "code",
   "execution_count": 49,
   "metadata": {},
   "outputs": [],
   "source": [
    "import numpy as np\n",
    "import pandas as pd\n",
    "import scipy \n",
    "import seaborn as sns\n",
    "import matplotlib.pyplot as plt\n",
    "%matplotlib inline"
   ]
  },
  {
   "cell_type": "markdown",
   "metadata": {},
   "source": [
    "Let us read the Dataset using Pandas 'read_csv' command."
   ]
  },
  {
   "cell_type": "code",
   "execution_count": 2,
   "metadata": {},
   "outputs": [],
   "source": [
    "data=pd.read_csv('Life Expectancy Data.csv')\n",
    "\n",
    "# Let us name our dataset as 'data'. And load it to see what it has init."
   ]
  },
  {
   "cell_type": "code",
   "execution_count": 3,
   "metadata": {},
   "outputs": [
    {
     "data": {
      "text/html": [
       "<div>\n",
       "<style scoped>\n",
       "    .dataframe tbody tr th:only-of-type {\n",
       "        vertical-align: middle;\n",
       "    }\n",
       "\n",
       "    .dataframe tbody tr th {\n",
       "        vertical-align: top;\n",
       "    }\n",
       "\n",
       "    .dataframe thead th {\n",
       "        text-align: right;\n",
       "    }\n",
       "</style>\n",
       "<table border=\"1\" class=\"dataframe\">\n",
       "  <thead>\n",
       "    <tr style=\"text-align: right;\">\n",
       "      <th></th>\n",
       "      <th>Country</th>\n",
       "      <th>Year</th>\n",
       "      <th>Status</th>\n",
       "      <th>Life expectancy</th>\n",
       "      <th>Adult Mortality</th>\n",
       "      <th>infant deaths</th>\n",
       "      <th>Alcohol</th>\n",
       "      <th>percentage expenditure</th>\n",
       "      <th>Hepatitis B</th>\n",
       "      <th>Measles</th>\n",
       "      <th>...</th>\n",
       "      <th>Polio</th>\n",
       "      <th>Total expenditure</th>\n",
       "      <th>Diphtheria</th>\n",
       "      <th>HIV/AIDS</th>\n",
       "      <th>GDP</th>\n",
       "      <th>Population</th>\n",
       "      <th>thinness  1-19 years</th>\n",
       "      <th>thinness 5-9 years</th>\n",
       "      <th>Income composition of resources</th>\n",
       "      <th>Schooling</th>\n",
       "    </tr>\n",
       "  </thead>\n",
       "  <tbody>\n",
       "    <tr>\n",
       "      <td>0</td>\n",
       "      <td>Afghanistan</td>\n",
       "      <td>2015</td>\n",
       "      <td>Developing</td>\n",
       "      <td>65.0</td>\n",
       "      <td>263.0</td>\n",
       "      <td>62</td>\n",
       "      <td>0.01</td>\n",
       "      <td>71.279624</td>\n",
       "      <td>65.0</td>\n",
       "      <td>1154</td>\n",
       "      <td>...</td>\n",
       "      <td>6.0</td>\n",
       "      <td>8.16</td>\n",
       "      <td>65.0</td>\n",
       "      <td>0.1</td>\n",
       "      <td>584.259210</td>\n",
       "      <td>33736494.0</td>\n",
       "      <td>17.2</td>\n",
       "      <td>17.3</td>\n",
       "      <td>0.479</td>\n",
       "      <td>10.1</td>\n",
       "    </tr>\n",
       "    <tr>\n",
       "      <td>1</td>\n",
       "      <td>Afghanistan</td>\n",
       "      <td>2014</td>\n",
       "      <td>Developing</td>\n",
       "      <td>59.9</td>\n",
       "      <td>271.0</td>\n",
       "      <td>64</td>\n",
       "      <td>0.01</td>\n",
       "      <td>73.523582</td>\n",
       "      <td>62.0</td>\n",
       "      <td>492</td>\n",
       "      <td>...</td>\n",
       "      <td>58.0</td>\n",
       "      <td>8.18</td>\n",
       "      <td>62.0</td>\n",
       "      <td>0.1</td>\n",
       "      <td>612.696514</td>\n",
       "      <td>327582.0</td>\n",
       "      <td>17.5</td>\n",
       "      <td>17.5</td>\n",
       "      <td>0.476</td>\n",
       "      <td>10.0</td>\n",
       "    </tr>\n",
       "    <tr>\n",
       "      <td>2</td>\n",
       "      <td>Afghanistan</td>\n",
       "      <td>2013</td>\n",
       "      <td>Developing</td>\n",
       "      <td>59.9</td>\n",
       "      <td>268.0</td>\n",
       "      <td>66</td>\n",
       "      <td>0.01</td>\n",
       "      <td>73.219243</td>\n",
       "      <td>64.0</td>\n",
       "      <td>430</td>\n",
       "      <td>...</td>\n",
       "      <td>62.0</td>\n",
       "      <td>8.13</td>\n",
       "      <td>64.0</td>\n",
       "      <td>0.1</td>\n",
       "      <td>631.744976</td>\n",
       "      <td>31731688.0</td>\n",
       "      <td>17.7</td>\n",
       "      <td>17.7</td>\n",
       "      <td>0.470</td>\n",
       "      <td>9.9</td>\n",
       "    </tr>\n",
       "    <tr>\n",
       "      <td>3</td>\n",
       "      <td>Afghanistan</td>\n",
       "      <td>2012</td>\n",
       "      <td>Developing</td>\n",
       "      <td>59.5</td>\n",
       "      <td>272.0</td>\n",
       "      <td>69</td>\n",
       "      <td>0.01</td>\n",
       "      <td>78.184215</td>\n",
       "      <td>67.0</td>\n",
       "      <td>2787</td>\n",
       "      <td>...</td>\n",
       "      <td>67.0</td>\n",
       "      <td>8.52</td>\n",
       "      <td>67.0</td>\n",
       "      <td>0.1</td>\n",
       "      <td>669.959000</td>\n",
       "      <td>3696958.0</td>\n",
       "      <td>17.9</td>\n",
       "      <td>18.0</td>\n",
       "      <td>0.463</td>\n",
       "      <td>9.8</td>\n",
       "    </tr>\n",
       "    <tr>\n",
       "      <td>4</td>\n",
       "      <td>Afghanistan</td>\n",
       "      <td>2011</td>\n",
       "      <td>Developing</td>\n",
       "      <td>59.2</td>\n",
       "      <td>275.0</td>\n",
       "      <td>71</td>\n",
       "      <td>0.01</td>\n",
       "      <td>7.097109</td>\n",
       "      <td>68.0</td>\n",
       "      <td>3013</td>\n",
       "      <td>...</td>\n",
       "      <td>68.0</td>\n",
       "      <td>7.87</td>\n",
       "      <td>68.0</td>\n",
       "      <td>0.1</td>\n",
       "      <td>63.537231</td>\n",
       "      <td>2978599.0</td>\n",
       "      <td>18.2</td>\n",
       "      <td>18.2</td>\n",
       "      <td>0.454</td>\n",
       "      <td>9.5</td>\n",
       "    </tr>\n",
       "  </tbody>\n",
       "</table>\n",
       "<p>5 rows × 22 columns</p>\n",
       "</div>"
      ],
      "text/plain": [
       "       Country  Year      Status  Life expectancy   Adult Mortality  \\\n",
       "0  Afghanistan  2015  Developing              65.0            263.0   \n",
       "1  Afghanistan  2014  Developing              59.9            271.0   \n",
       "2  Afghanistan  2013  Developing              59.9            268.0   \n",
       "3  Afghanistan  2012  Developing              59.5            272.0   \n",
       "4  Afghanistan  2011  Developing              59.2            275.0   \n",
       "\n",
       "   infant deaths  Alcohol  percentage expenditure  Hepatitis B  Measles   ...  \\\n",
       "0             62     0.01               71.279624         65.0      1154  ...   \n",
       "1             64     0.01               73.523582         62.0       492  ...   \n",
       "2             66     0.01               73.219243         64.0       430  ...   \n",
       "3             69     0.01               78.184215         67.0      2787  ...   \n",
       "4             71     0.01                7.097109         68.0      3013  ...   \n",
       "\n",
       "   Polio  Total expenditure  Diphtheria    HIV/AIDS         GDP  Population  \\\n",
       "0    6.0               8.16         65.0        0.1  584.259210  33736494.0   \n",
       "1   58.0               8.18         62.0        0.1  612.696514    327582.0   \n",
       "2   62.0               8.13         64.0        0.1  631.744976  31731688.0   \n",
       "3   67.0               8.52         67.0        0.1  669.959000   3696958.0   \n",
       "4   68.0               7.87         68.0        0.1   63.537231   2978599.0   \n",
       "\n",
       "    thinness  1-19 years   thinness 5-9 years  \\\n",
       "0                   17.2                 17.3   \n",
       "1                   17.5                 17.5   \n",
       "2                   17.7                 17.7   \n",
       "3                   17.9                 18.0   \n",
       "4                   18.2                 18.2   \n",
       "\n",
       "   Income composition of resources  Schooling  \n",
       "0                            0.479       10.1  \n",
       "1                            0.476       10.0  \n",
       "2                            0.470        9.9  \n",
       "3                            0.463        9.8  \n",
       "4                            0.454        9.5  \n",
       "\n",
       "[5 rows x 22 columns]"
      ]
     },
     "execution_count": 3,
     "metadata": {},
     "output_type": "execute_result"
    }
   ],
   "source": [
    "data.head(n=5)\n",
    "\n",
    "# Let us load first five observations of our dataset."
   ]
  },
  {
   "cell_type": "markdown",
   "metadata": {},
   "source": [
    "Looks like huge dataset with over 20 features. Its almost not possible to get insight from this dataset by just loading its head. Lets read the info and check for its total number of observations and examine it whether it has null values or not."
   ]
  },
  {
   "cell_type": "code",
   "execution_count": 4,
   "metadata": {},
   "outputs": [
    {
     "name": "stdout",
     "output_type": "stream",
     "text": [
      "<class 'pandas.core.frame.DataFrame'>\n",
      "RangeIndex: 2938 entries, 0 to 2937\n",
      "Data columns (total 22 columns):\n",
      "Country                            2938 non-null object\n",
      "Year                               2938 non-null int64\n",
      "Status                             2938 non-null object\n",
      "Life expectancy                    2928 non-null float64\n",
      "Adult Mortality                    2928 non-null float64\n",
      "infant deaths                      2938 non-null int64\n",
      "Alcohol                            2744 non-null float64\n",
      "percentage expenditure             2938 non-null float64\n",
      "Hepatitis B                        2385 non-null float64\n",
      "Measles                            2938 non-null int64\n",
      " BMI                               2904 non-null float64\n",
      "under-five deaths                  2938 non-null int64\n",
      "Polio                              2919 non-null float64\n",
      "Total expenditure                  2712 non-null float64\n",
      "Diphtheria                         2919 non-null float64\n",
      " HIV/AIDS                          2938 non-null float64\n",
      "GDP                                2490 non-null float64\n",
      "Population                         2286 non-null float64\n",
      " thinness  1-19 years              2904 non-null float64\n",
      " thinness 5-9 years                2904 non-null float64\n",
      "Income composition of resources    2771 non-null float64\n",
      "Schooling                          2775 non-null float64\n",
      "dtypes: float64(16), int64(4), object(2)\n",
      "memory usage: 505.1+ KB\n"
     ]
    }
   ],
   "source": [
    "data.info()"
   ]
  },
  {
   "cell_type": "markdown",
   "metadata": {},
   "source": [
    "It has 22 columns and nearly 3000 entries and with the inequality in no. of observations from each feature it is clear that it has got some null values. Lets try to fix them up and try to solve the problem."
   ]
  },
  {
   "cell_type": "markdown",
   "metadata": {},
   "source": [
    "It has 20 Quantitative and 2 Qualitative features."
   ]
  },
  {
   "cell_type": "markdown",
   "metadata": {},
   "source": [
    "Let us explore and find where the null values are actually present in the Dataset. It is kind of easy to visualize it rather than having it in any other format. Luckily we have heatmaps which uses isnull command to highlight the null values."
   ]
  },
  {
   "cell_type": "code",
   "execution_count": 6,
   "metadata": {},
   "outputs": [
    {
     "data": {
      "image/png": "[encoded data removed]",
      "text/plain": [
       "<Figure size 432x288 with 2 Axes>"
      ]
     },
     "metadata": {
      "needs_background": "light"
     },
     "output_type": "display_data"
    }
   ],
   "source": [
    "sns.heatmap(pd.isnull(data));\n",
    "\n",
    "# This plot highlights the null values."
   ]
  },
  {
   "cell_type": "markdown",
   "metadata": {},
   "source": [
    "## How do we impute NULL VALUES ?"
   ]
  },
  {
   "cell_type": "markdown",
   "metadata": {},
   "source": [
    "In genral we impute null values using the MEAN, MEDIAN Or MODE of that specific feature. Lets see how many null values does each of the features has."
   ]
  },
  {
   "cell_type": "markdown",
   "metadata": {},
   "source": [
    "Let us write a simple algorithm which prints a dataframe which shows no. of nans from each column."
   ]
  },
  {
   "cell_type": "code",
   "execution_count": 59,
   "metadata": {},
   "outputs": [
    {
     "data": {
      "text/html": [
       "<div>\n",
       "<style scoped>\n",
       "    .dataframe tbody tr th:only-of-type {\n",
       "        vertical-align: middle;\n",
       "    }\n",
       "\n",
       "    .dataframe tbody tr th {\n",
       "        vertical-align: top;\n",
       "    }\n",
       "\n",
       "    .dataframe thead th {\n",
       "        text-align: right;\n",
       "    }\n",
       "</style>\n",
       "<table border=\"1\" class=\"dataframe\">\n",
       "  <thead>\n",
       "    <tr style=\"text-align: right;\">\n",
       "      <th></th>\n",
       "      <th>Feature name</th>\n",
       "      <th>no. of Nan</th>\n",
       "    </tr>\n",
       "  </thead>\n",
       "  <tbody>\n",
       "    <tr>\n",
       "      <td>0</td>\n",
       "      <td>Country</td>\n",
       "      <td>0</td>\n",
       "    </tr>\n",
       "    <tr>\n",
       "      <td>1</td>\n",
       "      <td>Year</td>\n",
       "      <td>0</td>\n",
       "    </tr>\n",
       "    <tr>\n",
       "      <td>2</td>\n",
       "      <td>Status</td>\n",
       "      <td>0</td>\n",
       "    </tr>\n",
       "    <tr>\n",
       "      <td>3</td>\n",
       "      <td>Life expectancy</td>\n",
       "      <td>0</td>\n",
       "    </tr>\n",
       "    <tr>\n",
       "      <td>4</td>\n",
       "      <td>Adult Mortality</td>\n",
       "      <td>0</td>\n",
       "    </tr>\n",
       "    <tr>\n",
       "      <td>5</td>\n",
       "      <td>infant deaths</td>\n",
       "      <td>0</td>\n",
       "    </tr>\n",
       "    <tr>\n",
       "      <td>6</td>\n",
       "      <td>Alcohol</td>\n",
       "      <td>0</td>\n",
       "    </tr>\n",
       "    <tr>\n",
       "      <td>7</td>\n",
       "      <td>percentage expenditure</td>\n",
       "      <td>0</td>\n",
       "    </tr>\n",
       "    <tr>\n",
       "      <td>8</td>\n",
       "      <td>Hepatitis B</td>\n",
       "      <td>553</td>\n",
       "    </tr>\n",
       "    <tr>\n",
       "      <td>9</td>\n",
       "      <td>Measles</td>\n",
       "      <td>0</td>\n",
       "    </tr>\n",
       "    <tr>\n",
       "      <td>10</td>\n",
       "      <td>BMI</td>\n",
       "      <td>34</td>\n",
       "    </tr>\n",
       "    <tr>\n",
       "      <td>11</td>\n",
       "      <td>under-five deaths</td>\n",
       "      <td>0</td>\n",
       "    </tr>\n",
       "    <tr>\n",
       "      <td>12</td>\n",
       "      <td>Polio</td>\n",
       "      <td>0</td>\n",
       "    </tr>\n",
       "    <tr>\n",
       "      <td>13</td>\n",
       "      <td>Total expenditure</td>\n",
       "      <td>226</td>\n",
       "    </tr>\n",
       "    <tr>\n",
       "      <td>14</td>\n",
       "      <td>Diphtheria</td>\n",
       "      <td>19</td>\n",
       "    </tr>\n",
       "    <tr>\n",
       "      <td>15</td>\n",
       "      <td>HIV/AIDS</td>\n",
       "      <td>0</td>\n",
       "    </tr>\n",
       "    <tr>\n",
       "      <td>16</td>\n",
       "      <td>GDP</td>\n",
       "      <td>448</td>\n",
       "    </tr>\n",
       "    <tr>\n",
       "      <td>17</td>\n",
       "      <td>Population</td>\n",
       "      <td>652</td>\n",
       "    </tr>\n",
       "    <tr>\n",
       "      <td>18</td>\n",
       "      <td>thinness  1-19 years</td>\n",
       "      <td>34</td>\n",
       "    </tr>\n",
       "    <tr>\n",
       "      <td>19</td>\n",
       "      <td>thinness 5-9 years</td>\n",
       "      <td>34</td>\n",
       "    </tr>\n",
       "    <tr>\n",
       "      <td>20</td>\n",
       "      <td>Income composition of resources</td>\n",
       "      <td>167</td>\n",
       "    </tr>\n",
       "    <tr>\n",
       "      <td>21</td>\n",
       "      <td>Schooling</td>\n",
       "      <td>163</td>\n",
       "    </tr>\n",
       "  </tbody>\n",
       "</table>\n",
       "</div>"
      ],
      "text/plain": [
       "                       Feature name  no. of Nan\n",
       "0                           Country           0\n",
       "1                              Year           0\n",
       "2                            Status           0\n",
       "3                  Life expectancy            0\n",
       "4                   Adult Mortality           0\n",
       "5                     infant deaths           0\n",
       "6                           Alcohol           0\n",
       "7            percentage expenditure           0\n",
       "8                       Hepatitis B         553\n",
       "9                          Measles            0\n",
       "10                             BMI           34\n",
       "11               under-five deaths            0\n",
       "12                            Polio           0\n",
       "13                Total expenditure         226\n",
       "14                      Diphtheria           19\n",
       "15                         HIV/AIDS           0\n",
       "16                              GDP         448\n",
       "17                       Population         652\n",
       "18             thinness  1-19 years          34\n",
       "19               thinness 5-9 years          34\n",
       "20  Income composition of resources         167\n",
       "21                        Schooling         163"
      ]
     },
     "execution_count": 59,
     "metadata": {},
     "output_type": "execute_result"
    }
   ],
   "source": [
    "a=list(data.columns)\n",
    "b=[]\n",
    "for i in a:\n",
    "    c=data[i].isnull().sum()\n",
    "    b.append(c)\n",
    "null_df=pd.DataFrame({'Feature name':a,'no. of Nan':b})\n",
    "null_df"
   ]
  },
  {
   "cell_type": "markdown",
   "metadata": {},
   "source": [
    "We can see in columns like 'Life Expectancy' and 'Adult Mortality' there were few Nans values which wasn't visible in our heatmap. So lets fill them up with their average value as they are Continous features."
   ]
  },
  {
   "cell_type": "code",
   "execution_count": 32,
   "metadata": {},
   "outputs": [],
   "source": [
    "# This piece of code will fill the null values of the selected feature with its mean.\n",
    "# This one is for filling Nans in 'Life expectancy' column.\n",
    "\n",
    "data['Life expectancy ']=data['Life expectancy '].fillna(value=data['Life expectancy '].mean())\n",
    "\n",
    "# Lets also do the same for Adult Mortality.\n",
    "\n",
    "data['Adult Mortality']=data['Adult Mortality'].fillna(value=data['Adult Mortality'].mean())\n"
   ]
  },
  {
   "cell_type": "markdown",
   "metadata": {},
   "source": [
    "Now Lets move on to filling the other columns as well. We will move one by one by filling the Nans of each feature. Our next in target is \"ALCOHOL\" feature which has almost about 194 Nans."
   ]
  },
  {
   "cell_type": "markdown",
   "metadata": {},
   "source": [
    "But wait ! We are filling about 200 Nans, Is it ok fill Nans with MEAN this time ? the answer is absolutely Yes. But I thought of doing it in a different way. As it has Nans 20 times larger than the previous one, I thought to fill it using other column which represents best this column. "
   ]
  },
  {
   "cell_type": "markdown",
   "metadata": {},
   "source": [
    "It is always good to fill Nans using bunch of different values as we know that a feature is less likely to have a continous value about 200 or more times and Iam pretty sure that by doing this we would definitely come up with a good result."
   ]
  },
  {
   "cell_type": "markdown",
   "metadata": {},
   "source": [
    "To do this let us first see the correlation matrix of these features using '.corr' method by pandas."
   ]
  },
  {
   "cell_type": "code",
   "execution_count": 34,
   "metadata": {},
   "outputs": [
    {
     "data": {
      "text/html": [
       "<div>\n",
       "<style scoped>\n",
       "    .dataframe tbody tr th:only-of-type {\n",
       "        vertical-align: middle;\n",
       "    }\n",
       "\n",
       "    .dataframe tbody tr th {\n",
       "        vertical-align: top;\n",
       "    }\n",
       "\n",
       "    .dataframe thead th {\n",
       "        text-align: right;\n",
       "    }\n",
       "</style>\n",
       "<table border=\"1\" class=\"dataframe\">\n",
       "  <thead>\n",
       "    <tr style=\"text-align: right;\">\n",
       "      <th></th>\n",
       "      <th>Year</th>\n",
       "      <th>Life expectancy</th>\n",
       "      <th>Adult Mortality</th>\n",
       "      <th>infant deaths</th>\n",
       "      <th>Alcohol</th>\n",
       "      <th>percentage expenditure</th>\n",
       "      <th>Hepatitis B</th>\n",
       "      <th>Measles</th>\n",
       "      <th>BMI</th>\n",
       "      <th>under-five deaths</th>\n",
       "      <th>Polio</th>\n",
       "      <th>Total expenditure</th>\n",
       "      <th>Diphtheria</th>\n",
       "      <th>HIV/AIDS</th>\n",
       "      <th>GDP</th>\n",
       "      <th>Population</th>\n",
       "      <th>thinness  1-19 years</th>\n",
       "      <th>thinness 5-9 years</th>\n",
       "      <th>Income composition of resources</th>\n",
       "      <th>Schooling</th>\n",
       "    </tr>\n",
       "  </thead>\n",
       "  <tbody>\n",
       "    <tr>\n",
       "      <td>Year</td>\n",
       "      <td>1.000000</td>\n",
       "      <td>0.169623</td>\n",
       "      <td>-0.078861</td>\n",
       "      <td>-0.037415</td>\n",
       "      <td>-0.052990</td>\n",
       "      <td>0.031400</td>\n",
       "      <td>0.104333</td>\n",
       "      <td>-0.082493</td>\n",
       "      <td>0.108974</td>\n",
       "      <td>-0.042937</td>\n",
       "      <td>0.094158</td>\n",
       "      <td>0.090740</td>\n",
       "      <td>0.134337</td>\n",
       "      <td>-0.139741</td>\n",
       "      <td>0.101620</td>\n",
       "      <td>0.016969</td>\n",
       "      <td>-0.047876</td>\n",
       "      <td>-0.050929</td>\n",
       "      <td>0.243468</td>\n",
       "      <td>0.209400</td>\n",
       "    </tr>\n",
       "    <tr>\n",
       "      <td>Life expectancy</td>\n",
       "      <td>0.169623</td>\n",
       "      <td>1.000000</td>\n",
       "      <td>-0.696359</td>\n",
       "      <td>-0.196535</td>\n",
       "      <td>0.404029</td>\n",
       "      <td>0.381791</td>\n",
       "      <td>0.255760</td>\n",
       "      <td>-0.157574</td>\n",
       "      <td>0.564466</td>\n",
       "      <td>-0.222503</td>\n",
       "      <td>0.464531</td>\n",
       "      <td>0.216373</td>\n",
       "      <td>0.478465</td>\n",
       "      <td>-0.556457</td>\n",
       "      <td>0.461393</td>\n",
       "      <td>-0.021548</td>\n",
       "      <td>-0.476561</td>\n",
       "      <td>-0.470977</td>\n",
       "      <td>0.724631</td>\n",
       "      <td>0.748263</td>\n",
       "    </tr>\n",
       "    <tr>\n",
       "      <td>Adult Mortality</td>\n",
       "      <td>-0.078861</td>\n",
       "      <td>-0.696359</td>\n",
       "      <td>1.000000</td>\n",
       "      <td>0.078747</td>\n",
       "      <td>-0.195454</td>\n",
       "      <td>-0.242814</td>\n",
       "      <td>-0.161828</td>\n",
       "      <td>0.031174</td>\n",
       "      <td>-0.384806</td>\n",
       "      <td>0.094135</td>\n",
       "      <td>-0.274218</td>\n",
       "      <td>-0.114355</td>\n",
       "      <td>-0.274540</td>\n",
       "      <td>0.523727</td>\n",
       "      <td>-0.296019</td>\n",
       "      <td>-0.013639</td>\n",
       "      <td>0.302501</td>\n",
       "      <td>0.308053</td>\n",
       "      <td>-0.457530</td>\n",
       "      <td>-0.452380</td>\n",
       "    </tr>\n",
       "    <tr>\n",
       "      <td>infant deaths</td>\n",
       "      <td>-0.037415</td>\n",
       "      <td>-0.196535</td>\n",
       "      <td>0.078747</td>\n",
       "      <td>1.000000</td>\n",
       "      <td>-0.115638</td>\n",
       "      <td>-0.085612</td>\n",
       "      <td>-0.223566</td>\n",
       "      <td>0.501128</td>\n",
       "      <td>-0.227279</td>\n",
       "      <td>0.996629</td>\n",
       "      <td>-0.170689</td>\n",
       "      <td>-0.128616</td>\n",
       "      <td>-0.175171</td>\n",
       "      <td>0.025231</td>\n",
       "      <td>-0.108427</td>\n",
       "      <td>0.556801</td>\n",
       "      <td>0.465711</td>\n",
       "      <td>0.471350</td>\n",
       "      <td>-0.145139</td>\n",
       "      <td>-0.193720</td>\n",
       "    </tr>\n",
       "    <tr>\n",
       "      <td>Alcohol</td>\n",
       "      <td>-0.052990</td>\n",
       "      <td>0.404029</td>\n",
       "      <td>-0.195454</td>\n",
       "      <td>-0.115638</td>\n",
       "      <td>1.000000</td>\n",
       "      <td>0.341285</td>\n",
       "      <td>0.087549</td>\n",
       "      <td>-0.051827</td>\n",
       "      <td>0.330408</td>\n",
       "      <td>-0.112370</td>\n",
       "      <td>0.221734</td>\n",
       "      <td>0.296942</td>\n",
       "      <td>0.222020</td>\n",
       "      <td>-0.048845</td>\n",
       "      <td>0.354712</td>\n",
       "      <td>-0.035252</td>\n",
       "      <td>-0.428795</td>\n",
       "      <td>-0.417414</td>\n",
       "      <td>0.450040</td>\n",
       "      <td>0.547378</td>\n",
       "    </tr>\n",
       "    <tr>\n",
       "      <td>percentage expenditure</td>\n",
       "      <td>0.031400</td>\n",
       "      <td>0.381791</td>\n",
       "      <td>-0.242814</td>\n",
       "      <td>-0.085612</td>\n",
       "      <td>0.341285</td>\n",
       "      <td>1.000000</td>\n",
       "      <td>0.016274</td>\n",
       "      <td>-0.056596</td>\n",
       "      <td>0.228700</td>\n",
       "      <td>-0.087852</td>\n",
       "      <td>0.147259</td>\n",
       "      <td>0.174420</td>\n",
       "      <td>0.143624</td>\n",
       "      <td>-0.097857</td>\n",
       "      <td>0.899373</td>\n",
       "      <td>-0.025662</td>\n",
       "      <td>-0.251369</td>\n",
       "      <td>-0.252905</td>\n",
       "      <td>0.381952</td>\n",
       "      <td>0.389687</td>\n",
       "    </tr>\n",
       "    <tr>\n",
       "      <td>Hepatitis B</td>\n",
       "      <td>0.104333</td>\n",
       "      <td>0.255760</td>\n",
       "      <td>-0.161828</td>\n",
       "      <td>-0.223566</td>\n",
       "      <td>0.087549</td>\n",
       "      <td>0.016274</td>\n",
       "      <td>1.000000</td>\n",
       "      <td>-0.120529</td>\n",
       "      <td>0.150380</td>\n",
       "      <td>-0.233126</td>\n",
       "      <td>0.486171</td>\n",
       "      <td>0.058280</td>\n",
       "      <td>0.611495</td>\n",
       "      <td>-0.112675</td>\n",
       "      <td>0.083903</td>\n",
       "      <td>-0.123321</td>\n",
       "      <td>-0.120429</td>\n",
       "      <td>-0.124960</td>\n",
       "      <td>0.199549</td>\n",
       "      <td>0.231117</td>\n",
       "    </tr>\n",
       "    <tr>\n",
       "      <td>Measles</td>\n",
       "      <td>-0.082493</td>\n",
       "      <td>-0.157574</td>\n",
       "      <td>0.031174</td>\n",
       "      <td>0.501128</td>\n",
       "      <td>-0.051827</td>\n",
       "      <td>-0.056596</td>\n",
       "      <td>-0.120529</td>\n",
       "      <td>1.000000</td>\n",
       "      <td>-0.175977</td>\n",
       "      <td>0.507809</td>\n",
       "      <td>-0.136166</td>\n",
       "      <td>-0.106241</td>\n",
       "      <td>-0.141882</td>\n",
       "      <td>0.030899</td>\n",
       "      <td>-0.076466</td>\n",
       "      <td>0.265966</td>\n",
       "      <td>0.224808</td>\n",
       "      <td>0.221072</td>\n",
       "      <td>-0.129568</td>\n",
       "      <td>-0.137225</td>\n",
       "    </tr>\n",
       "    <tr>\n",
       "      <td>BMI</td>\n",
       "      <td>0.108974</td>\n",
       "      <td>0.564466</td>\n",
       "      <td>-0.384806</td>\n",
       "      <td>-0.227279</td>\n",
       "      <td>0.330408</td>\n",
       "      <td>0.228700</td>\n",
       "      <td>0.150380</td>\n",
       "      <td>-0.175977</td>\n",
       "      <td>1.000000</td>\n",
       "      <td>-0.237669</td>\n",
       "      <td>0.284569</td>\n",
       "      <td>0.242503</td>\n",
       "      <td>0.283147</td>\n",
       "      <td>-0.243717</td>\n",
       "      <td>0.301557</td>\n",
       "      <td>-0.072301</td>\n",
       "      <td>-0.532025</td>\n",
       "      <td>-0.538911</td>\n",
       "      <td>0.508774</td>\n",
       "      <td>0.546961</td>\n",
       "    </tr>\n",
       "    <tr>\n",
       "      <td>under-five deaths</td>\n",
       "      <td>-0.042937</td>\n",
       "      <td>-0.222503</td>\n",
       "      <td>0.094135</td>\n",
       "      <td>0.996629</td>\n",
       "      <td>-0.112370</td>\n",
       "      <td>-0.087852</td>\n",
       "      <td>-0.233126</td>\n",
       "      <td>0.507809</td>\n",
       "      <td>-0.237669</td>\n",
       "      <td>1.000000</td>\n",
       "      <td>-0.188720</td>\n",
       "      <td>-0.130148</td>\n",
       "      <td>-0.195668</td>\n",
       "      <td>0.038062</td>\n",
       "      <td>-0.112081</td>\n",
       "      <td>0.544423</td>\n",
       "      <td>0.467789</td>\n",
       "      <td>0.472263</td>\n",
       "      <td>-0.163305</td>\n",
       "      <td>-0.209373</td>\n",
       "    </tr>\n",
       "    <tr>\n",
       "      <td>Polio</td>\n",
       "      <td>0.094158</td>\n",
       "      <td>0.464531</td>\n",
       "      <td>-0.274218</td>\n",
       "      <td>-0.170689</td>\n",
       "      <td>0.221734</td>\n",
       "      <td>0.147259</td>\n",
       "      <td>0.486171</td>\n",
       "      <td>-0.136166</td>\n",
       "      <td>0.284569</td>\n",
       "      <td>-0.188720</td>\n",
       "      <td>1.000000</td>\n",
       "      <td>0.137330</td>\n",
       "      <td>0.673553</td>\n",
       "      <td>-0.159560</td>\n",
       "      <td>0.211976</td>\n",
       "      <td>-0.038540</td>\n",
       "      <td>-0.221823</td>\n",
       "      <td>-0.222592</td>\n",
       "      <td>0.381078</td>\n",
       "      <td>0.417866</td>\n",
       "    </tr>\n",
       "    <tr>\n",
       "      <td>Total expenditure</td>\n",
       "      <td>0.090740</td>\n",
       "      <td>0.216373</td>\n",
       "      <td>-0.114355</td>\n",
       "      <td>-0.128616</td>\n",
       "      <td>0.296942</td>\n",
       "      <td>0.174420</td>\n",
       "      <td>0.058280</td>\n",
       "      <td>-0.106241</td>\n",
       "      <td>0.242503</td>\n",
       "      <td>-0.130148</td>\n",
       "      <td>0.137330</td>\n",
       "      <td>1.000000</td>\n",
       "      <td>0.152754</td>\n",
       "      <td>-0.001389</td>\n",
       "      <td>0.138364</td>\n",
       "      <td>-0.079662</td>\n",
       "      <td>-0.277101</td>\n",
       "      <td>-0.283774</td>\n",
       "      <td>0.166682</td>\n",
       "      <td>0.246384</td>\n",
       "    </tr>\n",
       "    <tr>\n",
       "      <td>Diphtheria</td>\n",
       "      <td>0.134337</td>\n",
       "      <td>0.478465</td>\n",
       "      <td>-0.274540</td>\n",
       "      <td>-0.175171</td>\n",
       "      <td>0.222020</td>\n",
       "      <td>0.143624</td>\n",
       "      <td>0.611495</td>\n",
       "      <td>-0.141882</td>\n",
       "      <td>0.283147</td>\n",
       "      <td>-0.195668</td>\n",
       "      <td>0.673553</td>\n",
       "      <td>0.152754</td>\n",
       "      <td>1.000000</td>\n",
       "      <td>-0.164860</td>\n",
       "      <td>0.200666</td>\n",
       "      <td>-0.028444</td>\n",
       "      <td>-0.229518</td>\n",
       "      <td>-0.222743</td>\n",
       "      <td>0.401456</td>\n",
       "      <td>0.425332</td>\n",
       "    </tr>\n",
       "    <tr>\n",
       "      <td>HIV/AIDS</td>\n",
       "      <td>-0.139741</td>\n",
       "      <td>-0.556457</td>\n",
       "      <td>0.523727</td>\n",
       "      <td>0.025231</td>\n",
       "      <td>-0.048845</td>\n",
       "      <td>-0.097857</td>\n",
       "      <td>-0.112675</td>\n",
       "      <td>0.030899</td>\n",
       "      <td>-0.243717</td>\n",
       "      <td>0.038062</td>\n",
       "      <td>-0.159560</td>\n",
       "      <td>-0.001389</td>\n",
       "      <td>-0.164860</td>\n",
       "      <td>1.000000</td>\n",
       "      <td>-0.136491</td>\n",
       "      <td>-0.027854</td>\n",
       "      <td>0.204064</td>\n",
       "      <td>0.207283</td>\n",
       "      <td>-0.249519</td>\n",
       "      <td>-0.220429</td>\n",
       "    </tr>\n",
       "    <tr>\n",
       "      <td>GDP</td>\n",
       "      <td>0.101620</td>\n",
       "      <td>0.461393</td>\n",
       "      <td>-0.296019</td>\n",
       "      <td>-0.108427</td>\n",
       "      <td>0.354712</td>\n",
       "      <td>0.899373</td>\n",
       "      <td>0.083903</td>\n",
       "      <td>-0.076466</td>\n",
       "      <td>0.301557</td>\n",
       "      <td>-0.112081</td>\n",
       "      <td>0.211976</td>\n",
       "      <td>0.138364</td>\n",
       "      <td>0.200666</td>\n",
       "      <td>-0.136491</td>\n",
       "      <td>1.000000</td>\n",
       "      <td>-0.028270</td>\n",
       "      <td>-0.285697</td>\n",
       "      <td>-0.290539</td>\n",
       "      <td>0.460341</td>\n",
       "      <td>0.448273</td>\n",
       "    </tr>\n",
       "    <tr>\n",
       "      <td>Population</td>\n",
       "      <td>0.016969</td>\n",
       "      <td>-0.021548</td>\n",
       "      <td>-0.013639</td>\n",
       "      <td>0.556801</td>\n",
       "      <td>-0.035252</td>\n",
       "      <td>-0.025662</td>\n",
       "      <td>-0.123321</td>\n",
       "      <td>0.265966</td>\n",
       "      <td>-0.072301</td>\n",
       "      <td>0.544423</td>\n",
       "      <td>-0.038540</td>\n",
       "      <td>-0.079662</td>\n",
       "      <td>-0.028444</td>\n",
       "      <td>-0.027854</td>\n",
       "      <td>-0.028270</td>\n",
       "      <td>1.000000</td>\n",
       "      <td>0.253944</td>\n",
       "      <td>0.251403</td>\n",
       "      <td>-0.008735</td>\n",
       "      <td>-0.031668</td>\n",
       "    </tr>\n",
       "    <tr>\n",
       "      <td>thinness  1-19 years</td>\n",
       "      <td>-0.047876</td>\n",
       "      <td>-0.476561</td>\n",
       "      <td>0.302501</td>\n",
       "      <td>0.465711</td>\n",
       "      <td>-0.428795</td>\n",
       "      <td>-0.251369</td>\n",
       "      <td>-0.120429</td>\n",
       "      <td>0.224808</td>\n",
       "      <td>-0.532025</td>\n",
       "      <td>0.467789</td>\n",
       "      <td>-0.221823</td>\n",
       "      <td>-0.277101</td>\n",
       "      <td>-0.229518</td>\n",
       "      <td>0.204064</td>\n",
       "      <td>-0.285697</td>\n",
       "      <td>0.253944</td>\n",
       "      <td>1.000000</td>\n",
       "      <td>0.939102</td>\n",
       "      <td>-0.422429</td>\n",
       "      <td>-0.471652</td>\n",
       "    </tr>\n",
       "    <tr>\n",
       "      <td>thinness 5-9 years</td>\n",
       "      <td>-0.050929</td>\n",
       "      <td>-0.470977</td>\n",
       "      <td>0.308053</td>\n",
       "      <td>0.471350</td>\n",
       "      <td>-0.417414</td>\n",
       "      <td>-0.252905</td>\n",
       "      <td>-0.124960</td>\n",
       "      <td>0.221072</td>\n",
       "      <td>-0.538911</td>\n",
       "      <td>0.472263</td>\n",
       "      <td>-0.222592</td>\n",
       "      <td>-0.283774</td>\n",
       "      <td>-0.222743</td>\n",
       "      <td>0.207283</td>\n",
       "      <td>-0.290539</td>\n",
       "      <td>0.251403</td>\n",
       "      <td>0.939102</td>\n",
       "      <td>1.000000</td>\n",
       "      <td>-0.411053</td>\n",
       "      <td>-0.460632</td>\n",
       "    </tr>\n",
       "    <tr>\n",
       "      <td>Income composition of resources</td>\n",
       "      <td>0.243468</td>\n",
       "      <td>0.724631</td>\n",
       "      <td>-0.457530</td>\n",
       "      <td>-0.145139</td>\n",
       "      <td>0.450040</td>\n",
       "      <td>0.381952</td>\n",
       "      <td>0.199549</td>\n",
       "      <td>-0.129568</td>\n",
       "      <td>0.508774</td>\n",
       "      <td>-0.163305</td>\n",
       "      <td>0.381078</td>\n",
       "      <td>0.166682</td>\n",
       "      <td>0.401456</td>\n",
       "      <td>-0.249519</td>\n",
       "      <td>0.460341</td>\n",
       "      <td>-0.008735</td>\n",
       "      <td>-0.422429</td>\n",
       "      <td>-0.411053</td>\n",
       "      <td>1.000000</td>\n",
       "      <td>0.800092</td>\n",
       "    </tr>\n",
       "    <tr>\n",
       "      <td>Schooling</td>\n",
       "      <td>0.209400</td>\n",
       "      <td>0.748263</td>\n",
       "      <td>-0.452380</td>\n",
       "      <td>-0.193720</td>\n",
       "      <td>0.547378</td>\n",
       "      <td>0.389687</td>\n",
       "      <td>0.231117</td>\n",
       "      <td>-0.137225</td>\n",
       "      <td>0.546961</td>\n",
       "      <td>-0.209373</td>\n",
       "      <td>0.417866</td>\n",
       "      <td>0.246384</td>\n",
       "      <td>0.425332</td>\n",
       "      <td>-0.220429</td>\n",
       "      <td>0.448273</td>\n",
       "      <td>-0.031668</td>\n",
       "      <td>-0.471652</td>\n",
       "      <td>-0.460632</td>\n",
       "      <td>0.800092</td>\n",
       "      <td>1.000000</td>\n",
       "    </tr>\n",
       "  </tbody>\n",
       "</table>\n",
       "</div>"
      ],
      "text/plain": [
       "                                     Year  Life expectancy   Adult Mortality  \\\n",
       "Year                             1.000000          0.169623        -0.078861   \n",
       "Life expectancy                  0.169623          1.000000        -0.696359   \n",
       "Adult Mortality                 -0.078861         -0.696359         1.000000   \n",
       "infant deaths                   -0.037415         -0.196535         0.078747   \n",
       "Alcohol                         -0.052990          0.404029        -0.195454   \n",
       "percentage expenditure           0.031400          0.381791        -0.242814   \n",
       "Hepatitis B                      0.104333          0.255760        -0.161828   \n",
       "Measles                         -0.082493         -0.157574         0.031174   \n",
       " BMI                             0.108974          0.564466        -0.384806   \n",
       "under-five deaths               -0.042937         -0.222503         0.094135   \n",
       "Polio                            0.094158          0.464531        -0.274218   \n",
       "Total expenditure                0.090740          0.216373        -0.114355   \n",
       "Diphtheria                       0.134337          0.478465        -0.274540   \n",
       " HIV/AIDS                       -0.139741         -0.556457         0.523727   \n",
       "GDP                              0.101620          0.461393        -0.296019   \n",
       "Population                       0.016969         -0.021548        -0.013639   \n",
       " thinness  1-19 years           -0.047876         -0.476561         0.302501   \n",
       " thinness 5-9 years             -0.050929         -0.470977         0.308053   \n",
       "Income composition of resources  0.243468          0.724631        -0.457530   \n",
       "Schooling                        0.209400          0.748263        -0.452380   \n",
       "\n",
       "                                 infant deaths   Alcohol  \\\n",
       "Year                                 -0.037415 -0.052990   \n",
       "Life expectancy                      -0.196535  0.404029   \n",
       "Adult Mortality                       0.078747 -0.195454   \n",
       "infant deaths                         1.000000 -0.115638   \n",
       "Alcohol                              -0.115638  1.000000   \n",
       "percentage expenditure               -0.085612  0.341285   \n",
       "Hepatitis B                          -0.223566  0.087549   \n",
       "Measles                               0.501128 -0.051827   \n",
       " BMI                                 -0.227279  0.330408   \n",
       "under-five deaths                     0.996629 -0.112370   \n",
       "Polio                                -0.170689  0.221734   \n",
       "Total expenditure                    -0.128616  0.296942   \n",
       "Diphtheria                           -0.175171  0.222020   \n",
       " HIV/AIDS                             0.025231 -0.048845   \n",
       "GDP                                  -0.108427  0.354712   \n",
       "Population                            0.556801 -0.035252   \n",
       " thinness  1-19 years                 0.465711 -0.428795   \n",
       " thinness 5-9 years                   0.471350 -0.417414   \n",
       "Income composition of resources      -0.145139  0.450040   \n",
       "Schooling                            -0.193720  0.547378   \n",
       "\n",
       "                                 percentage expenditure  Hepatitis B  \\\n",
       "Year                                           0.031400     0.104333   \n",
       "Life expectancy                                0.381791     0.255760   \n",
       "Adult Mortality                               -0.242814    -0.161828   \n",
       "infant deaths                                 -0.085612    -0.223566   \n",
       "Alcohol                                        0.341285     0.087549   \n",
       "percentage expenditure                         1.000000     0.016274   \n",
       "Hepatitis B                                    0.016274     1.000000   \n",
       "Measles                                       -0.056596    -0.120529   \n",
       " BMI                                           0.228700     0.150380   \n",
       "under-five deaths                             -0.087852    -0.233126   \n",
       "Polio                                          0.147259     0.486171   \n",
       "Total expenditure                              0.174420     0.058280   \n",
       "Diphtheria                                     0.143624     0.611495   \n",
       " HIV/AIDS                                     -0.097857    -0.112675   \n",
       "GDP                                            0.899373     0.083903   \n",
       "Population                                    -0.025662    -0.123321   \n",
       " thinness  1-19 years                         -0.251369    -0.120429   \n",
       " thinness 5-9 years                           -0.252905    -0.124960   \n",
       "Income composition of resources                0.381952     0.199549   \n",
       "Schooling                                      0.389687     0.231117   \n",
       "\n",
       "                                 Measles       BMI   under-five deaths   \\\n",
       "Year                            -0.082493  0.108974           -0.042937   \n",
       "Life expectancy                 -0.157574  0.564466           -0.222503   \n",
       "Adult Mortality                  0.031174 -0.384806            0.094135   \n",
       "infant deaths                    0.501128 -0.227279            0.996629   \n",
       "Alcohol                         -0.051827  0.330408           -0.112370   \n",
       "percentage expenditure          -0.056596  0.228700           -0.087852   \n",
       "Hepatitis B                     -0.120529  0.150380           -0.233126   \n",
       "Measles                          1.000000 -0.175977            0.507809   \n",
       " BMI                            -0.175977  1.000000           -0.237669   \n",
       "under-five deaths                0.507809 -0.237669            1.000000   \n",
       "Polio                           -0.136166  0.284569           -0.188720   \n",
       "Total expenditure               -0.106241  0.242503           -0.130148   \n",
       "Diphtheria                      -0.141882  0.283147           -0.195668   \n",
       " HIV/AIDS                        0.030899 -0.243717            0.038062   \n",
       "GDP                             -0.076466  0.301557           -0.112081   \n",
       "Population                       0.265966 -0.072301            0.544423   \n",
       " thinness  1-19 years            0.224808 -0.532025            0.467789   \n",
       " thinness 5-9 years              0.221072 -0.538911            0.472263   \n",
       "Income composition of resources -0.129568  0.508774           -0.163305   \n",
       "Schooling                       -0.137225  0.546961           -0.209373   \n",
       "\n",
       "                                    Polio  Total expenditure  Diphtheria   \\\n",
       "Year                             0.094158           0.090740     0.134337   \n",
       "Life expectancy                  0.464531           0.216373     0.478465   \n",
       "Adult Mortality                 -0.274218          -0.114355    -0.274540   \n",
       "infant deaths                   -0.170689          -0.128616    -0.175171   \n",
       "Alcohol                          0.221734           0.296942     0.222020   \n",
       "percentage expenditure           0.147259           0.174420     0.143624   \n",
       "Hepatitis B                      0.486171           0.058280     0.611495   \n",
       "Measles                         -0.136166          -0.106241    -0.141882   \n",
       " BMI                             0.284569           0.242503     0.283147   \n",
       "under-five deaths               -0.188720          -0.130148    -0.195668   \n",
       "Polio                            1.000000           0.137330     0.673553   \n",
       "Total expenditure                0.137330           1.000000     0.152754   \n",
       "Diphtheria                       0.673553           0.152754     1.000000   \n",
       " HIV/AIDS                       -0.159560          -0.001389    -0.164860   \n",
       "GDP                              0.211976           0.138364     0.200666   \n",
       "Population                      -0.038540          -0.079662    -0.028444   \n",
       " thinness  1-19 years           -0.221823          -0.277101    -0.229518   \n",
       " thinness 5-9 years             -0.222592          -0.283774    -0.222743   \n",
       "Income composition of resources  0.381078           0.166682     0.401456   \n",
       "Schooling                        0.417866           0.246384     0.425332   \n",
       "\n",
       "                                  HIV/AIDS       GDP  Population  \\\n",
       "Year                             -0.139741  0.101620    0.016969   \n",
       "Life expectancy                  -0.556457  0.461393   -0.021548   \n",
       "Adult Mortality                   0.523727 -0.296019   -0.013639   \n",
       "infant deaths                     0.025231 -0.108427    0.556801   \n",
       "Alcohol                          -0.048845  0.354712   -0.035252   \n",
       "percentage expenditure           -0.097857  0.899373   -0.025662   \n",
       "Hepatitis B                      -0.112675  0.083903   -0.123321   \n",
       "Measles                           0.030899 -0.076466    0.265966   \n",
       " BMI                             -0.243717  0.301557   -0.072301   \n",
       "under-five deaths                 0.038062 -0.112081    0.544423   \n",
       "Polio                            -0.159560  0.211976   -0.038540   \n",
       "Total expenditure                -0.001389  0.138364   -0.079662   \n",
       "Diphtheria                       -0.164860  0.200666   -0.028444   \n",
       " HIV/AIDS                         1.000000 -0.136491   -0.027854   \n",
       "GDP                              -0.136491  1.000000   -0.028270   \n",
       "Population                       -0.027854 -0.028270    1.000000   \n",
       " thinness  1-19 years             0.204064 -0.285697    0.253944   \n",
       " thinness 5-9 years               0.207283 -0.290539    0.251403   \n",
       "Income composition of resources  -0.249519  0.460341   -0.008735   \n",
       "Schooling                        -0.220429  0.448273   -0.031668   \n",
       "\n",
       "                                  thinness  1-19 years   thinness 5-9 years  \\\n",
       "Year                                         -0.047876            -0.050929   \n",
       "Life expectancy                              -0.476561            -0.470977   \n",
       "Adult Mortality                               0.302501             0.308053   \n",
       "infant deaths                                 0.465711             0.471350   \n",
       "Alcohol                                      -0.428795            -0.417414   \n",
       "percentage expenditure                       -0.251369            -0.252905   \n",
       "Hepatitis B                                  -0.120429            -0.124960   \n",
       "Measles                                       0.224808             0.221072   \n",
       " BMI                                         -0.532025            -0.538911   \n",
       "under-five deaths                             0.467789             0.472263   \n",
       "Polio                                        -0.221823            -0.222592   \n",
       "Total expenditure                            -0.277101            -0.283774   \n",
       "Diphtheria                                   -0.229518            -0.222743   \n",
       " HIV/AIDS                                     0.204064             0.207283   \n",
       "GDP                                          -0.285697            -0.290539   \n",
       "Population                                    0.253944             0.251403   \n",
       " thinness  1-19 years                         1.000000             0.939102   \n",
       " thinness 5-9 years                           0.939102             1.000000   \n",
       "Income composition of resources              -0.422429            -0.411053   \n",
       "Schooling                                    -0.471652            -0.460632   \n",
       "\n",
       "                                 Income composition of resources  Schooling  \n",
       "Year                                                    0.243468   0.209400  \n",
       "Life expectancy                                         0.724631   0.748263  \n",
       "Adult Mortality                                        -0.457530  -0.452380  \n",
       "infant deaths                                          -0.145139  -0.193720  \n",
       "Alcohol                                                 0.450040   0.547378  \n",
       "percentage expenditure                                  0.381952   0.389687  \n",
       "Hepatitis B                                             0.199549   0.231117  \n",
       "Measles                                                -0.129568  -0.137225  \n",
       " BMI                                                    0.508774   0.546961  \n",
       "under-five deaths                                      -0.163305  -0.209373  \n",
       "Polio                                                   0.381078   0.417866  \n",
       "Total expenditure                                       0.166682   0.246384  \n",
       "Diphtheria                                              0.401456   0.425332  \n",
       " HIV/AIDS                                              -0.249519  -0.220429  \n",
       "GDP                                                     0.460341   0.448273  \n",
       "Population                                             -0.008735  -0.031668  \n",
       " thinness  1-19 years                                  -0.422429  -0.471652  \n",
       " thinness 5-9 years                                    -0.411053  -0.460632  \n",
       "Income composition of resources                         1.000000   0.800092  \n",
       "Schooling                                               0.800092   1.000000  "
      ]
     },
     "execution_count": 34,
     "metadata": {},
     "output_type": "execute_result"
    }
   ],
   "source": [
    "corr_data=data.corr()\n",
    "corr_data"
   ]
  },
  {
   "cell_type": "markdown",
   "metadata": {},
   "source": [
    "As you can see there are some features that are quite well correlated with each other. So, we would impute these nans using the other features which are nicely correlated with eachother."
   ]
  },
  {
   "cell_type": "markdown",
   "metadata": {},
   "source": [
    "Let us now Visualise these correlation values using a heatmap again."
   ]
  },
  {
   "cell_type": "code",
   "execution_count": 35,
   "metadata": {},
   "outputs": [
    {
     "data": {
      "text/plain": [
       "<matplotlib.axes._subplots.AxesSubplot at 0x1fc7c9c3d68>"
      ]
     },
     "execution_count": 35,
     "metadata": {},
     "output_type": "execute_result"
    },
    {
     "data": {
      "image/png": "[encoded data removed]",
      "text/plain": [
       "<Figure size 432x288 with 2 Axes>"
      ]
     },
     "metadata": {
      "needs_background": "light"
     },
     "output_type": "display_data"
    }
   ],
   "source": [
    "sns.heatmap(corr_data)"
   ]
  },
  {
   "cell_type": "markdown",
   "metadata": {},
   "source": [
    "The DARKEST and the LIGHTEST blocks represets that there is a strong relationship between those attributes."
   ]
  },
  {
   "cell_type": "markdown",
   "metadata": {},
   "source": [
    "From the above correlation matrix 'Alcohol' feature nicely correlates with the 'Schooling' feature. Now lets plot a Scatterplot between them and observe the trend."
   ]
  },
  {
   "cell_type": "code",
   "execution_count": 39,
   "metadata": {},
   "outputs": [
    {
     "data": {
      "image/png": "[encoded data removed]",
      "text/plain": [
       "<Figure size 432x288 with 1 Axes>"
      ]
     },
     "metadata": {
      "needs_background": "light"
     },
     "output_type": "display_data"
    }
   ],
   "source": [
    "sns.scatterplot(x=data['Schooling'],y=data['Alcohol']);\n",
    "\n",
    "#The semicolon atlast in the code is to hide the address of the plot which is not that required but I personally like doing that"
   ]
  },
  {
   "cell_type": "markdown",
   "metadata": {},
   "source": [
    "- I have selected these values for imputing the Nans by observing a the trends in between selected interval."
   ]
  },
  {
   "cell_type": "markdown",
   "metadata": {},
   "source": [
    "Ex: The mean value of Alcohol which is in between 5-10 of Schooling column is 4.0"
   ]
  },
  {
   "cell_type": "code",
   "execution_count": 40,
   "metadata": {},
   "outputs": [],
   "source": [
    "# These values are mean values of the selected interval of other feature.\n",
    "\n",
    "def impute_Alcohol(cols):\n",
    "    al=cols[0]\n",
    "    sc=cols[1]\n",
    "    if pd.isnull(al):\n",
    "        if sc<=2.5:\n",
    "            return 4.0\n",
    "        elif 2.5<sc<=5.0:\n",
    "            return 1.5\n",
    "        elif 5.0<sc<=7.5:\n",
    "            return 2.5\n",
    "        elif 7.5<sc<=10.0:\n",
    "            return 3.0\n",
    "        elif 10.0<sc<=15:\n",
    "            return 4.0\n",
    "        elif sc>15:\n",
    "            return 10.0\n",
    "    else:\n",
    "        return al\n",
    "    \n",
    "data['Alcohol']=data[['Alcohol','Schooling']].apply(impute_Alcohol,axis=1)"
   ]
  },
  {
   "cell_type": "markdown",
   "metadata": {},
   "source": [
    "Now lets cross check whether values were filled or not by using the same heatmap."
   ]
  },
  {
   "cell_type": "code",
   "execution_count": 41,
   "metadata": {},
   "outputs": [
    {
     "data": {
      "text/plain": [
       "<matplotlib.axes._subplots.AxesSubplot at 0x1fc7cdda0b8>"
      ]
     },
     "execution_count": 41,
     "metadata": {},
     "output_type": "execute_result"
    },
    {
     "data": {
      "image/png": "[encoded data removed]",
      "text/plain": [
       "<Figure size 432x288 with 2 Axes>"
      ]
     },
     "metadata": {
      "needs_background": "light"
     },
     "output_type": "display_data"
    }
   ],
   "source": [
    "sns.heatmap(pd.isnull(data))"
   ]
  },
  {
   "cell_type": "markdown",
   "metadata": {},
   "source": [
    "##### Looks like we are still left with some Nans. But why did this exactly happened ?"
   ]
  },
  {
   "cell_type": "markdown",
   "metadata": {},
   "source": [
    "If we could observe from the heatmap the zone in which null values were failed to be filled is the same zone in which the other feature had its Null values. So for now lets fill those remaining Nans with the Mean Value."
   ]
  },
  {
   "cell_type": "code",
   "execution_count": 43,
   "metadata": {},
   "outputs": [],
   "source": [
    "data['Alcohol']=data['Alcohol'].fillna(value=data['Alcohol'].mean())"
   ]
  },
  {
   "cell_type": "code",
   "execution_count": 44,
   "metadata": {},
   "outputs": [
    {
     "data": {
      "text/plain": [
       "<matplotlib.axes._subplots.AxesSubplot at 0x1fc7cac5550>"
      ]
     },
     "execution_count": 44,
     "metadata": {},
     "output_type": "execute_result"
    },
    {
     "data": {
      "image/png": "[encoded data removed]",
      "text/plain": [
       "<Figure size 432x288 with 2 Axes>"
      ]
     },
     "metadata": {
      "needs_background": "light"
     },
     "output_type": "display_data"
    }
   ],
   "source": [
    "# Rechecking the Heatmap.\n",
    "sns.heatmap(pd.isnull(data))"
   ]
  },
  {
   "cell_type": "markdown",
   "metadata": {},
   "source": [
    "Now we dont have any null values in 'alcohol' olumn."
   ]
  },
  {
   "cell_type": "markdown",
   "metadata": {},
   "source": [
    "Lets look at the distribution of the alcohol column."
   ]
  },
  {
   "cell_type": "code",
   "execution_count": 47,
   "metadata": {},
   "outputs": [
    {
     "data": {
      "image/png": "[encoded data removed]",
      "text/plain": [
       "<Figure size 432x288 with 1 Axes>"
      ]
     },
     "metadata": {
      "needs_background": "light"
     },
     "output_type": "display_data"
    }
   ],
   "source": [
    "sns.distplot(data['Alcohol']);"
   ]
  },
  {
   "cell_type": "markdown",
   "metadata": {},
   "source": [
    "There is a huge positive skew for this distribution. Lets look at its Kurtosis value."
   ]
  },
  {
   "cell_type": "code",
   "execution_count": 56,
   "metadata": {},
   "outputs": [
    {
     "data": {
      "text/plain": [
       "0.5964252568271255"
      ]
     },
     "execution_count": 56,
     "metadata": {},
     "output_type": "execute_result"
    }
   ],
   "source": [
    "scipy.stats.skew(data['Alcohol'],axis=0)\n",
    "\n",
    "# This shows that this column has positive skew."
   ]
  },
  {
   "cell_type": "markdown",
   "metadata": {},
   "source": [
    " Lets repeat this for imputing  Nans for all other features as well."
   ]
  },
  {
   "cell_type": "markdown",
   "metadata": {},
   "source": [
    "#### Important observations:"
   ]
  },
  {
   "cell_type": "markdown",
   "metadata": {},
   "source": [
    "- Now our next in list is 'Hepatatis B' which highly correlates with 'Diptheria', But both of them have null values in the same zone.\n"
   ]
  },
  {
   "cell_type": "markdown",
   "metadata": {},
   "source": [
    "- If we want to impute 'Diptheria' first with highly correlated feature 'Polio' then that again would be of no use because it has again the same problem of null values(Nans) in same Zone."
   ]
  },
  {
   "cell_type": "markdown",
   "metadata": {},
   "source": [
    "** But luckily we found an option of imputing 'Polio' feature with the 'Life expactancy' which nicely correlates with it. So for now lets impute 'Polio' feature firstly with 'Life expactancy' and then would impute others using this"
   ]
  },
  {
   "cell_type": "code",
   "execution_count": 107,
   "metadata": {},
   "outputs": [
    {
     "data": {
      "image/png": "[encoded data removed]",
      "text/plain": [
       "<Figure size 432x288 with 1 Axes>"
      ]
     },
     "metadata": {
      "needs_background": "light"
     },
     "output_type": "display_data"
    }
   ],
   "source": [
    "sns.scatterplot(x=data['Life expectancy '],y=data['Polio']);\n",
    "\n",
    "# Scattterplot between them."
   ]
  },
  {
   "cell_type": "markdown",
   "metadata": {},
   "source": [
    "Imputing the selected values for each interval. It is the same way like we did for the 'Alcohol' feature."
   ]
  },
  {
   "cell_type": "code",
   "execution_count": 57,
   "metadata": {},
   "outputs": [],
   "source": [
    "def impute_polio(c):\n",
    "    p=c[0]\n",
    "    l=c[1]\n",
    "    if pd.isnull(p):\n",
    "        if l<=45:\n",
    "            return 80.0\n",
    "        elif 45<l<=50:\n",
    "            return 67.0\n",
    "        elif 50<l<=60:\n",
    "            return 87.44\n",
    "        elif 60<l<=70:\n",
    "            return 91\n",
    "        elif 70<l<=80:\n",
    "            return 94.3\n",
    "        elif l>80:\n",
    "            return 95\n",
    "    else:\n",
    "        return p\n",
    "    \n",
    "data['Polio']=data[['Polio','Life expectancy ']].apply(impute_polio,axis=1)"
   ]
  },
  {
   "cell_type": "markdown",
   "metadata": {},
   "source": [
    "Lets have a look at the Null values again"
   ]
  },
  {
   "cell_type": "code",
   "execution_count": 60,
   "metadata": {},
   "outputs": [
    {
     "data": {
      "text/html": [
       "<div>\n",
       "<style scoped>\n",
       "    .dataframe tbody tr th:only-of-type {\n",
       "        vertical-align: middle;\n",
       "    }\n",
       "\n",
       "    .dataframe tbody tr th {\n",
       "        vertical-align: top;\n",
       "    }\n",
       "\n",
       "    .dataframe thead th {\n",
       "        text-align: right;\n",
       "    }\n",
       "</style>\n",
       "<table border=\"1\" class=\"dataframe\">\n",
       "  <thead>\n",
       "    <tr style=\"text-align: right;\">\n",
       "      <th></th>\n",
       "      <th>Feature name</th>\n",
       "      <th>no. of Nan</th>\n",
       "    </tr>\n",
       "  </thead>\n",
       "  <tbody>\n",
       "    <tr>\n",
       "      <td>0</td>\n",
       "      <td>Country</td>\n",
       "      <td>0</td>\n",
       "    </tr>\n",
       "    <tr>\n",
       "      <td>1</td>\n",
       "      <td>Year</td>\n",
       "      <td>0</td>\n",
       "    </tr>\n",
       "    <tr>\n",
       "      <td>2</td>\n",
       "      <td>Status</td>\n",
       "      <td>0</td>\n",
       "    </tr>\n",
       "    <tr>\n",
       "      <td>3</td>\n",
       "      <td>Life expectancy</td>\n",
       "      <td>0</td>\n",
       "    </tr>\n",
       "    <tr>\n",
       "      <td>4</td>\n",
       "      <td>Adult Mortality</td>\n",
       "      <td>0</td>\n",
       "    </tr>\n",
       "    <tr>\n",
       "      <td>5</td>\n",
       "      <td>infant deaths</td>\n",
       "      <td>0</td>\n",
       "    </tr>\n",
       "    <tr>\n",
       "      <td>6</td>\n",
       "      <td>Alcohol</td>\n",
       "      <td>0</td>\n",
       "    </tr>\n",
       "    <tr>\n",
       "      <td>7</td>\n",
       "      <td>percentage expenditure</td>\n",
       "      <td>0</td>\n",
       "    </tr>\n",
       "    <tr>\n",
       "      <td>8</td>\n",
       "      <td>Hepatitis B</td>\n",
       "      <td>553</td>\n",
       "    </tr>\n",
       "    <tr>\n",
       "      <td>9</td>\n",
       "      <td>Measles</td>\n",
       "      <td>0</td>\n",
       "    </tr>\n",
       "    <tr>\n",
       "      <td>10</td>\n",
       "      <td>BMI</td>\n",
       "      <td>34</td>\n",
       "    </tr>\n",
       "    <tr>\n",
       "      <td>11</td>\n",
       "      <td>under-five deaths</td>\n",
       "      <td>0</td>\n",
       "    </tr>\n",
       "    <tr>\n",
       "      <td>12</td>\n",
       "      <td>Polio</td>\n",
       "      <td>0</td>\n",
       "    </tr>\n",
       "    <tr>\n",
       "      <td>13</td>\n",
       "      <td>Total expenditure</td>\n",
       "      <td>226</td>\n",
       "    </tr>\n",
       "    <tr>\n",
       "      <td>14</td>\n",
       "      <td>Diphtheria</td>\n",
       "      <td>19</td>\n",
       "    </tr>\n",
       "    <tr>\n",
       "      <td>15</td>\n",
       "      <td>HIV/AIDS</td>\n",
       "      <td>0</td>\n",
       "    </tr>\n",
       "    <tr>\n",
       "      <td>16</td>\n",
       "      <td>GDP</td>\n",
       "      <td>448</td>\n",
       "    </tr>\n",
       "    <tr>\n",
       "      <td>17</td>\n",
       "      <td>Population</td>\n",
       "      <td>652</td>\n",
       "    </tr>\n",
       "    <tr>\n",
       "      <td>18</td>\n",
       "      <td>thinness  1-19 years</td>\n",
       "      <td>34</td>\n",
       "    </tr>\n",
       "    <tr>\n",
       "      <td>19</td>\n",
       "      <td>thinness 5-9 years</td>\n",
       "      <td>34</td>\n",
       "    </tr>\n",
       "    <tr>\n",
       "      <td>20</td>\n",
       "      <td>Income composition of resources</td>\n",
       "      <td>167</td>\n",
       "    </tr>\n",
       "    <tr>\n",
       "      <td>21</td>\n",
       "      <td>Schooling</td>\n",
       "      <td>163</td>\n",
       "    </tr>\n",
       "  </tbody>\n",
       "</table>\n",
       "</div>"
      ],
      "text/plain": [
       "                       Feature name  no. of Nan\n",
       "0                           Country           0\n",
       "1                              Year           0\n",
       "2                            Status           0\n",
       "3                  Life expectancy            0\n",
       "4                   Adult Mortality           0\n",
       "5                     infant deaths           0\n",
       "6                           Alcohol           0\n",
       "7            percentage expenditure           0\n",
       "8                       Hepatitis B         553\n",
       "9                          Measles            0\n",
       "10                             BMI           34\n",
       "11               under-five deaths            0\n",
       "12                            Polio           0\n",
       "13                Total expenditure         226\n",
       "14                      Diphtheria           19\n",
       "15                         HIV/AIDS           0\n",
       "16                              GDP         448\n",
       "17                       Population         652\n",
       "18             thinness  1-19 years          34\n",
       "19               thinness 5-9 years          34\n",
       "20  Income composition of resources         167\n",
       "21                        Schooling         163"
      ]
     },
     "execution_count": 60,
     "metadata": {},
     "output_type": "execute_result"
    }
   ],
   "source": [
    "a=list(data.columns)\n",
    "b=[]\n",
    "for i in a:\n",
    "    c=data[i].isnull().sum()\n",
    "    b.append(c)\n",
    "null_df=pd.DataFrame({'Feature name':a,'no. of Nan':b})\n",
    "null_df"
   ]
  },
  {
   "cell_type": "markdown",
   "metadata": {},
   "source": [
    "Now we dont have any nulls in polio section. Lets impute 'Diphtheria' using 'Polio' feature."
   ]
  },
  {
   "cell_type": "code",
   "execution_count": 106,
   "metadata": {},
   "outputs": [
    {
     "data": {
      "image/png": "[encoded data removed]",
      "text/plain": [
       "<Figure size 432x288 with 1 Axes>"
      ]
     },
     "metadata": {
      "needs_background": "light"
     },
     "output_type": "display_data"
    }
   ],
   "source": [
    "# Scatter plot between these features.\n",
    "\n",
    "sns.scatterplot(x=data['Polio'],y=data['Diphtheria ']);"
   ]
  },
  {
   "cell_type": "code",
   "execution_count": 62,
   "metadata": {},
   "outputs": [],
   "source": [
    "def impute_Diptheria(c):\n",
    "    d=c[0]\n",
    "    p=c[1]\n",
    "    if pd.isnull(d):\n",
    "        if p<=10:\n",
    "            return 75.0\n",
    "        elif 10<p<=40:\n",
    "            return 37.0\n",
    "        elif 40<p<=45:\n",
    "            return 40.0\n",
    "        elif 45<p<=50:\n",
    "            return 50.0\n",
    "        elif 50<p<=60:\n",
    "            return 55.0\n",
    "        elif 60<p<=80:\n",
    "            return 65.0\n",
    "        elif p>80:\n",
    "            return 90.0\n",
    "    else:\n",
    "        return d\n",
    "data['Diphtheria ']=data[['Diphtheria ','Polio']].apply(impute_Diptheria,axis=1)"
   ]
  },
  {
   "cell_type": "code",
   "execution_count": 64,
   "metadata": {},
   "outputs": [
    {
     "data": {
      "text/html": [
       "<div>\n",
       "<style scoped>\n",
       "    .dataframe tbody tr th:only-of-type {\n",
       "        vertical-align: middle;\n",
       "    }\n",
       "\n",
       "    .dataframe tbody tr th {\n",
       "        vertical-align: top;\n",
       "    }\n",
       "\n",
       "    .dataframe thead th {\n",
       "        text-align: right;\n",
       "    }\n",
       "</style>\n",
       "<table border=\"1\" class=\"dataframe\">\n",
       "  <thead>\n",
       "    <tr style=\"text-align: right;\">\n",
       "      <th></th>\n",
       "      <th>Feature name</th>\n",
       "      <th>no. of Nan</th>\n",
       "    </tr>\n",
       "  </thead>\n",
       "  <tbody>\n",
       "    <tr>\n",
       "      <td>0</td>\n",
       "      <td>Country</td>\n",
       "      <td>0</td>\n",
       "    </tr>\n",
       "    <tr>\n",
       "      <td>1</td>\n",
       "      <td>Year</td>\n",
       "      <td>0</td>\n",
       "    </tr>\n",
       "    <tr>\n",
       "      <td>2</td>\n",
       "      <td>Status</td>\n",
       "      <td>0</td>\n",
       "    </tr>\n",
       "    <tr>\n",
       "      <td>3</td>\n",
       "      <td>Life expectancy</td>\n",
       "      <td>0</td>\n",
       "    </tr>\n",
       "    <tr>\n",
       "      <td>4</td>\n",
       "      <td>Adult Mortality</td>\n",
       "      <td>0</td>\n",
       "    </tr>\n",
       "    <tr>\n",
       "      <td>5</td>\n",
       "      <td>infant deaths</td>\n",
       "      <td>0</td>\n",
       "    </tr>\n",
       "    <tr>\n",
       "      <td>6</td>\n",
       "      <td>Alcohol</td>\n",
       "      <td>0</td>\n",
       "    </tr>\n",
       "    <tr>\n",
       "      <td>7</td>\n",
       "      <td>percentage expenditure</td>\n",
       "      <td>0</td>\n",
       "    </tr>\n",
       "    <tr>\n",
       "      <td>8</td>\n",
       "      <td>Hepatitis B</td>\n",
       "      <td>553</td>\n",
       "    </tr>\n",
       "    <tr>\n",
       "      <td>9</td>\n",
       "      <td>Measles</td>\n",
       "      <td>0</td>\n",
       "    </tr>\n",
       "    <tr>\n",
       "      <td>10</td>\n",
       "      <td>BMI</td>\n",
       "      <td>34</td>\n",
       "    </tr>\n",
       "    <tr>\n",
       "      <td>11</td>\n",
       "      <td>under-five deaths</td>\n",
       "      <td>0</td>\n",
       "    </tr>\n",
       "    <tr>\n",
       "      <td>12</td>\n",
       "      <td>Polio</td>\n",
       "      <td>0</td>\n",
       "    </tr>\n",
       "    <tr>\n",
       "      <td>13</td>\n",
       "      <td>Total expenditure</td>\n",
       "      <td>226</td>\n",
       "    </tr>\n",
       "    <tr>\n",
       "      <td>14</td>\n",
       "      <td>Diphtheria</td>\n",
       "      <td>0</td>\n",
       "    </tr>\n",
       "    <tr>\n",
       "      <td>15</td>\n",
       "      <td>HIV/AIDS</td>\n",
       "      <td>0</td>\n",
       "    </tr>\n",
       "    <tr>\n",
       "      <td>16</td>\n",
       "      <td>GDP</td>\n",
       "      <td>448</td>\n",
       "    </tr>\n",
       "    <tr>\n",
       "      <td>17</td>\n",
       "      <td>Population</td>\n",
       "      <td>652</td>\n",
       "    </tr>\n",
       "    <tr>\n",
       "      <td>18</td>\n",
       "      <td>thinness  1-19 years</td>\n",
       "      <td>34</td>\n",
       "    </tr>\n",
       "    <tr>\n",
       "      <td>19</td>\n",
       "      <td>thinness 5-9 years</td>\n",
       "      <td>34</td>\n",
       "    </tr>\n",
       "    <tr>\n",
       "      <td>20</td>\n",
       "      <td>Income composition of resources</td>\n",
       "      <td>167</td>\n",
       "    </tr>\n",
       "    <tr>\n",
       "      <td>21</td>\n",
       "      <td>Schooling</td>\n",
       "      <td>163</td>\n",
       "    </tr>\n",
       "  </tbody>\n",
       "</table>\n",
       "</div>"
      ],
      "text/plain": [
       "                       Feature name  no. of Nan\n",
       "0                           Country           0\n",
       "1                              Year           0\n",
       "2                            Status           0\n",
       "3                  Life expectancy            0\n",
       "4                   Adult Mortality           0\n",
       "5                     infant deaths           0\n",
       "6                           Alcohol           0\n",
       "7            percentage expenditure           0\n",
       "8                       Hepatitis B         553\n",
       "9                          Measles            0\n",
       "10                             BMI           34\n",
       "11               under-five deaths            0\n",
       "12                            Polio           0\n",
       "13                Total expenditure         226\n",
       "14                      Diphtheria            0\n",
       "15                         HIV/AIDS           0\n",
       "16                              GDP         448\n",
       "17                       Population         652\n",
       "18             thinness  1-19 years          34\n",
       "19               thinness 5-9 years          34\n",
       "20  Income composition of resources         167\n",
       "21                        Schooling         163"
      ]
     },
     "execution_count": 64,
     "metadata": {},
     "output_type": "execute_result"
    }
   ],
   "source": [
    "a=list(data.columns)\n",
    "b=[]\n",
    "for i in a:\n",
    "    c=data[i].isnull().sum()\n",
    "    b.append(c)\n",
    "null_df=pd.DataFrame({'Feature name':a,'no. of Nan':b})\n",
    "null_df\n",
    "\n",
    "# A look at the null values again."
   ]
  },
  {
   "cell_type": "markdown",
   "metadata": {},
   "source": [
    "Now its time for imputing 'Hepatitis B' using 'Diptheria' feature."
   ]
  },
  {
   "cell_type": "code",
   "execution_count": 105,
   "metadata": {},
   "outputs": [
    {
     "data": {
      "image/png": "[encoded data removed]",
      "text/plain": [
       "<Figure size 432x288 with 1 Axes>"
      ]
     },
     "metadata": {
      "needs_background": "light"
     },
     "output_type": "display_data"
    }
   ],
   "source": [
    "sns.scatterplot(x=data['Diphtheria '],y=data['Hepatitis B']);\n",
    "\n",
    "# Scatterplot between them."
   ]
  },
  {
   "cell_type": "code",
   "execution_count": 66,
   "metadata": {},
   "outputs": [],
   "source": [
    "def impute_HepatatisB(cols):\n",
    "    hep=cols[0]\n",
    "    dip=cols[1]\n",
    "    if pd.isnull(hep):\n",
    "        if dip<=15:\n",
    "            return 75.0\n",
    "        elif 15<dip<=30:\n",
    "            return 20.0\n",
    "        elif 30<dip<=45:\n",
    "            return 38.0\n",
    "        elif 45<dip<=60:\n",
    "            return 43.0\n",
    "        elif 60<dip<=80:\n",
    "            return 63.0\n",
    "        elif dip>80:\n",
    "            return 88.4\n",
    "    else:\n",
    "        return hep\n",
    "    \n",
    "data['Hepatitis B']=data[['Hepatitis B','Diphtheria ']].apply(impute_HepatatisB,axis=1)"
   ]
  },
  {
   "cell_type": "code",
   "execution_count": 68,
   "metadata": {},
   "outputs": [
    {
     "data": {
      "text/plain": [
       "88.39573481687472"
      ]
     },
     "execution_count": 68,
     "metadata": {},
     "output_type": "execute_result"
    }
   ],
   "source": [
    "data[data['Diphtheria ']>80.0]['Hepatitis B'].mean()\n",
    "\n",
    "# Mean for imputing Diptheria Nans in 80-100 interval."
   ]
  },
  {
   "cell_type": "markdown",
   "metadata": {},
   "source": [
    "Now again cross checking the imputed values."
   ]
  },
  {
   "cell_type": "code",
   "execution_count": 69,
   "metadata": {},
   "outputs": [
    {
     "data": {
      "text/html": [
       "<div>\n",
       "<style scoped>\n",
       "    .dataframe tbody tr th:only-of-type {\n",
       "        vertical-align: middle;\n",
       "    }\n",
       "\n",
       "    .dataframe tbody tr th {\n",
       "        vertical-align: top;\n",
       "    }\n",
       "\n",
       "    .dataframe thead th {\n",
       "        text-align: right;\n",
       "    }\n",
       "</style>\n",
       "<table border=\"1\" class=\"dataframe\">\n",
       "  <thead>\n",
       "    <tr style=\"text-align: right;\">\n",
       "      <th></th>\n",
       "      <th>Feature name</th>\n",
       "      <th>no. of Nan</th>\n",
       "    </tr>\n",
       "  </thead>\n",
       "  <tbody>\n",
       "    <tr>\n",
       "      <td>0</td>\n",
       "      <td>Country</td>\n",
       "      <td>0</td>\n",
       "    </tr>\n",
       "    <tr>\n",
       "      <td>1</td>\n",
       "      <td>Year</td>\n",
       "      <td>0</td>\n",
       "    </tr>\n",
       "    <tr>\n",
       "      <td>2</td>\n",
       "      <td>Status</td>\n",
       "      <td>0</td>\n",
       "    </tr>\n",
       "    <tr>\n",
       "      <td>3</td>\n",
       "      <td>Life expectancy</td>\n",
       "      <td>0</td>\n",
       "    </tr>\n",
       "    <tr>\n",
       "      <td>4</td>\n",
       "      <td>Adult Mortality</td>\n",
       "      <td>0</td>\n",
       "    </tr>\n",
       "    <tr>\n",
       "      <td>5</td>\n",
       "      <td>infant deaths</td>\n",
       "      <td>0</td>\n",
       "    </tr>\n",
       "    <tr>\n",
       "      <td>6</td>\n",
       "      <td>Alcohol</td>\n",
       "      <td>0</td>\n",
       "    </tr>\n",
       "    <tr>\n",
       "      <td>7</td>\n",
       "      <td>percentage expenditure</td>\n",
       "      <td>0</td>\n",
       "    </tr>\n",
       "    <tr>\n",
       "      <td>8</td>\n",
       "      <td>Hepatitis B</td>\n",
       "      <td>0</td>\n",
       "    </tr>\n",
       "    <tr>\n",
       "      <td>9</td>\n",
       "      <td>Measles</td>\n",
       "      <td>0</td>\n",
       "    </tr>\n",
       "    <tr>\n",
       "      <td>10</td>\n",
       "      <td>BMI</td>\n",
       "      <td>34</td>\n",
       "    </tr>\n",
       "    <tr>\n",
       "      <td>11</td>\n",
       "      <td>under-five deaths</td>\n",
       "      <td>0</td>\n",
       "    </tr>\n",
       "    <tr>\n",
       "      <td>12</td>\n",
       "      <td>Polio</td>\n",
       "      <td>0</td>\n",
       "    </tr>\n",
       "    <tr>\n",
       "      <td>13</td>\n",
       "      <td>Total expenditure</td>\n",
       "      <td>226</td>\n",
       "    </tr>\n",
       "    <tr>\n",
       "      <td>14</td>\n",
       "      <td>Diphtheria</td>\n",
       "      <td>0</td>\n",
       "    </tr>\n",
       "    <tr>\n",
       "      <td>15</td>\n",
       "      <td>HIV/AIDS</td>\n",
       "      <td>0</td>\n",
       "    </tr>\n",
       "    <tr>\n",
       "      <td>16</td>\n",
       "      <td>GDP</td>\n",
       "      <td>448</td>\n",
       "    </tr>\n",
       "    <tr>\n",
       "      <td>17</td>\n",
       "      <td>Population</td>\n",
       "      <td>652</td>\n",
       "    </tr>\n",
       "    <tr>\n",
       "      <td>18</td>\n",
       "      <td>thinness  1-19 years</td>\n",
       "      <td>34</td>\n",
       "    </tr>\n",
       "    <tr>\n",
       "      <td>19</td>\n",
       "      <td>thinness 5-9 years</td>\n",
       "      <td>34</td>\n",
       "    </tr>\n",
       "    <tr>\n",
       "      <td>20</td>\n",
       "      <td>Income composition of resources</td>\n",
       "      <td>167</td>\n",
       "    </tr>\n",
       "    <tr>\n",
       "      <td>21</td>\n",
       "      <td>Schooling</td>\n",
       "      <td>163</td>\n",
       "    </tr>\n",
       "  </tbody>\n",
       "</table>\n",
       "</div>"
      ],
      "text/plain": [
       "                       Feature name  no. of Nan\n",
       "0                           Country           0\n",
       "1                              Year           0\n",
       "2                            Status           0\n",
       "3                  Life expectancy            0\n",
       "4                   Adult Mortality           0\n",
       "5                     infant deaths           0\n",
       "6                           Alcohol           0\n",
       "7            percentage expenditure           0\n",
       "8                       Hepatitis B           0\n",
       "9                          Measles            0\n",
       "10                             BMI           34\n",
       "11               under-five deaths            0\n",
       "12                            Polio           0\n",
       "13                Total expenditure         226\n",
       "14                      Diphtheria            0\n",
       "15                         HIV/AIDS           0\n",
       "16                              GDP         448\n",
       "17                       Population         652\n",
       "18             thinness  1-19 years          34\n",
       "19               thinness 5-9 years          34\n",
       "20  Income composition of resources         167\n",
       "21                        Schooling         163"
      ]
     },
     "execution_count": 69,
     "metadata": {},
     "output_type": "execute_result"
    }
   ],
   "source": [
    "a=list(data.columns)\n",
    "b=[]\n",
    "for i in a:\n",
    "    c=data[i].isnull().sum()\n",
    "    b.append(c)\n",
    "null_df=pd.DataFrame({'Feature name':a,'no. of Nan':b})\n",
    "null_df"
   ]
  },
  {
   "cell_type": "markdown",
   "metadata": {},
   "source": [
    "Lets repeat this for all the features."
   ]
  },
  {
   "cell_type": "markdown",
   "metadata": {},
   "source": [
    "### Here is the list of features that we are going to impute with other features:"
   ]
  },
  {
   "cell_type": "markdown",
   "metadata": {},
   "source": [
    "- Impute 'BMI' feature with 'Life expactancy' feature."
   ]
  },
  {
   "cell_type": "markdown",
   "metadata": {},
   "source": [
    "- Impute 'Total expenditure' with 'Alcohol' feature."
   ]
  },
  {
   "cell_type": "markdown",
   "metadata": {},
   "source": [
    "- Impute 'GDP' feature with 'percentage expenditure\t' feature."
   ]
  },
  {
   "cell_type": "markdown",
   "metadata": {},
   "source": [
    "- Impute 'Population' feature with 'Infant death' feature."
   ]
  },
  {
   "cell_type": "markdown",
   "metadata": {},
   "source": [
    "- Impute 'Thin 1-19' feature with 'BMI' feature."
   ]
  },
  {
   "cell_type": "markdown",
   "metadata": {},
   "source": [
    "- Impute 'Thin 5-9' feature with 'BMI' feature."
   ]
  },
  {
   "cell_type": "markdown",
   "metadata": {},
   "source": [
    "- Impute 'Schooling' feature and 'Income Composition of resources' feature with 'Life expactancy' feature."
   ]
  },
  {
   "cell_type": "markdown",
   "metadata": {},
   "source": [
    "Lets begin the process of imputing. "
   ]
  },
  {
   "cell_type": "code",
   "execution_count": 104,
   "metadata": {},
   "outputs": [
    {
     "data": {
      "image/png": "[encoded data removed]",
      "text/plain": [
       "<Figure size 432x288 with 1 Axes>"
      ]
     },
     "metadata": {
      "needs_background": "light"
     },
     "output_type": "display_data"
    }
   ],
   "source": [
    "sns.scatterplot(x=data['Life expectancy '],y=data[' BMI ']);"
   ]
  },
  {
   "cell_type": "code",
   "execution_count": 84,
   "metadata": {},
   "outputs": [],
   "source": [
    "def impute_BMI(c):\n",
    "    b=c[0]\n",
    "    l=c[1]\n",
    "    if pd.isnull(b):\n",
    "        if l<=50:\n",
    "            return 25.0\n",
    "        elif 50<l<=60:\n",
    "            return 25.0\n",
    "        elif 60<l<=70:\n",
    "            return 32.0\n",
    "        elif 70<l<=80:\n",
    "            return 46.8\n",
    "        elif 80<l<=100:\n",
    "            return 60.0\n",
    "    else:\n",
    "        return b\n",
    "    \n",
    "data[' BMI ']=data[[' BMI ','Life expectancy ']].apply(impute_BMI,axis=1)"
   ]
  },
  {
   "cell_type": "code",
   "execution_count": 101,
   "metadata": {},
   "outputs": [
    {
     "data": {
      "text/html": [
       "<div>\n",
       "<style scoped>\n",
       "    .dataframe tbody tr th:only-of-type {\n",
       "        vertical-align: middle;\n",
       "    }\n",
       "\n",
       "    .dataframe tbody tr th {\n",
       "        vertical-align: top;\n",
       "    }\n",
       "\n",
       "    .dataframe thead th {\n",
       "        text-align: right;\n",
       "    }\n",
       "</style>\n",
       "<table border=\"1\" class=\"dataframe\">\n",
       "  <thead>\n",
       "    <tr style=\"text-align: right;\">\n",
       "      <th></th>\n",
       "      <th>Feature name</th>\n",
       "      <th>no. of Nan</th>\n",
       "    </tr>\n",
       "  </thead>\n",
       "  <tbody>\n",
       "    <tr>\n",
       "      <td>0</td>\n",
       "      <td>Country</td>\n",
       "      <td>0</td>\n",
       "    </tr>\n",
       "    <tr>\n",
       "      <td>1</td>\n",
       "      <td>Year</td>\n",
       "      <td>0</td>\n",
       "    </tr>\n",
       "    <tr>\n",
       "      <td>2</td>\n",
       "      <td>Status</td>\n",
       "      <td>0</td>\n",
       "    </tr>\n",
       "    <tr>\n",
       "      <td>3</td>\n",
       "      <td>Life expectancy</td>\n",
       "      <td>0</td>\n",
       "    </tr>\n",
       "    <tr>\n",
       "      <td>4</td>\n",
       "      <td>Adult Mortality</td>\n",
       "      <td>0</td>\n",
       "    </tr>\n",
       "    <tr>\n",
       "      <td>5</td>\n",
       "      <td>infant deaths</td>\n",
       "      <td>0</td>\n",
       "    </tr>\n",
       "    <tr>\n",
       "      <td>6</td>\n",
       "      <td>Alcohol</td>\n",
       "      <td>0</td>\n",
       "    </tr>\n",
       "    <tr>\n",
       "      <td>7</td>\n",
       "      <td>percentage expenditure</td>\n",
       "      <td>0</td>\n",
       "    </tr>\n",
       "    <tr>\n",
       "      <td>8</td>\n",
       "      <td>Hepatitis B</td>\n",
       "      <td>0</td>\n",
       "    </tr>\n",
       "    <tr>\n",
       "      <td>9</td>\n",
       "      <td>Measles</td>\n",
       "      <td>0</td>\n",
       "    </tr>\n",
       "    <tr>\n",
       "      <td>10</td>\n",
       "      <td>BMI</td>\n",
       "      <td>0</td>\n",
       "    </tr>\n",
       "    <tr>\n",
       "      <td>11</td>\n",
       "      <td>under-five deaths</td>\n",
       "      <td>0</td>\n",
       "    </tr>\n",
       "    <tr>\n",
       "      <td>12</td>\n",
       "      <td>Polio</td>\n",
       "      <td>0</td>\n",
       "    </tr>\n",
       "    <tr>\n",
       "      <td>13</td>\n",
       "      <td>Total expenditure</td>\n",
       "      <td>0</td>\n",
       "    </tr>\n",
       "    <tr>\n",
       "      <td>14</td>\n",
       "      <td>Diphtheria</td>\n",
       "      <td>0</td>\n",
       "    </tr>\n",
       "    <tr>\n",
       "      <td>15</td>\n",
       "      <td>HIV/AIDS</td>\n",
       "      <td>0</td>\n",
       "    </tr>\n",
       "    <tr>\n",
       "      <td>16</td>\n",
       "      <td>GDP</td>\n",
       "      <td>448</td>\n",
       "    </tr>\n",
       "    <tr>\n",
       "      <td>17</td>\n",
       "      <td>Population</td>\n",
       "      <td>652</td>\n",
       "    </tr>\n",
       "    <tr>\n",
       "      <td>18</td>\n",
       "      <td>thinness  1-19 years</td>\n",
       "      <td>34</td>\n",
       "    </tr>\n",
       "    <tr>\n",
       "      <td>19</td>\n",
       "      <td>thinness 5-9 years</td>\n",
       "      <td>34</td>\n",
       "    </tr>\n",
       "    <tr>\n",
       "      <td>20</td>\n",
       "      <td>Income composition of resources</td>\n",
       "      <td>167</td>\n",
       "    </tr>\n",
       "    <tr>\n",
       "      <td>21</td>\n",
       "      <td>Schooling</td>\n",
       "      <td>163</td>\n",
       "    </tr>\n",
       "  </tbody>\n",
       "</table>\n",
       "</div>"
      ],
      "text/plain": [
       "                       Feature name  no. of Nan\n",
       "0                           Country           0\n",
       "1                              Year           0\n",
       "2                            Status           0\n",
       "3                  Life expectancy            0\n",
       "4                   Adult Mortality           0\n",
       "5                     infant deaths           0\n",
       "6                           Alcohol           0\n",
       "7            percentage expenditure           0\n",
       "8                       Hepatitis B           0\n",
       "9                          Measles            0\n",
       "10                             BMI            0\n",
       "11               under-five deaths            0\n",
       "12                            Polio           0\n",
       "13                Total expenditure           0\n",
       "14                      Diphtheria            0\n",
       "15                         HIV/AIDS           0\n",
       "16                              GDP         448\n",
       "17                       Population         652\n",
       "18             thinness  1-19 years          34\n",
       "19               thinness 5-9 years          34\n",
       "20  Income composition of resources         167\n",
       "21                        Schooling         163"
      ]
     },
     "execution_count": 101,
     "metadata": {},
     "output_type": "execute_result"
    }
   ],
   "source": [
    "a=list(data.columns)\n",
    "b=[]\n",
    "for i in a:\n",
    "    c=data[i].isnull().sum()\n",
    "    b.append(c)\n",
    "null_df=pd.DataFrame({'Feature name':a,'no. of Nan':b})\n",
    "null_df"
   ]
  },
  {
   "cell_type": "code",
   "execution_count": 100,
   "metadata": {},
   "outputs": [
    {
     "data": {
      "image/png": "[encoded data removed]",
      "text/plain": [
       "<Figure size 432x288 with 1 Axes>"
      ]
     },
     "metadata": {
      "needs_background": "light"
     },
     "output_type": "display_data"
    }
   ],
   "source": [
    "sns.scatterplot(y=data['Total expenditure'],x=data['Alcohol']);"
   ]
  },
  {
   "cell_type": "code",
   "execution_count": 99,
   "metadata": {},
   "outputs": [],
   "source": [
    "def impute_Total_exp(c):\n",
    "    t=c[0]\n",
    "    a=c[1]\n",
    "    if pd.isnull(t):\n",
    "        if a<=2.5:\n",
    "            return 5.08\n",
    "        elif 2.5<a<=5.0:\n",
    "            return 6.0\n",
    "        elif 5.0<a<=10.0:\n",
    "            return 6.71\n",
    "        elif 10.0<a<=12.5:\n",
    "            return 6.9\n",
    "        elif a>12.5:\n",
    "            return 6.68\n",
    "    else:\n",
    "        return t\n",
    "    \n",
    "data['Total expenditure']=data[['Total expenditure','Alcohol']].apply(impute_Total_exp,axis=1)        "
   ]
  },
  {
   "cell_type": "code",
   "execution_count": 103,
   "metadata": {},
   "outputs": [
    {
     "data": {
      "image/png": "[encoded data removed]",
      "text/plain": [
       "<Figure size 432x288 with 1 Axes>"
      ]
     },
     "metadata": {
      "needs_background": "light"
     },
     "output_type": "display_data"
    }
   ],
   "source": [
    "sns.scatterplot(x=data['percentage expenditure'],y=data['GDP']);"
   ]
  },
  {
   "cell_type": "code",
   "execution_count": 108,
   "metadata": {},
   "outputs": [],
   "source": [
    "def impute_GDP(c):\n",
    "    g=c[0]\n",
    "    p=c[1]\n",
    "    if pd.isnull(g):\n",
    "        if p<=1250:\n",
    "            return 1100.0\n",
    "        elif 1250<p<=2500:\n",
    "            return 1800.0\n",
    "        elif 2500<p<=3750:\n",
    "            return 2900.0\n",
    "        elif 3750<p<=7500:\n",
    "            return 3500.0\n",
    "        elif 7500<p<=8750:\n",
    "            return 4500.0\n",
    "        elif 8750<p<=10000:\n",
    "            return 5000.0\n",
    "        elif 10000<p<=11250:\n",
    "            return 5700.0\n",
    "        elif 11250<p<=12500:\n",
    "            return 7000.0\n",
    "        elif 12500<p<=15000:\n",
    "            return 8000.0\n",
    "        elif 15000<p<=17500:\n",
    "            return 9000.0\n",
    "        elif p>17500:\n",
    "            return 8500.0\n",
    "    else:\n",
    "        return g\n",
    "    \n",
    "data['GDP']=data[['GDP','percentage expenditure']].apply(impute_GDP,axis=1)"
   ]
  },
  {
   "cell_type": "code",
   "execution_count": 123,
   "metadata": {},
   "outputs": [
    {
     "data": {
      "image/png": "[encoded data removed]",
      "text/plain": [
       "<Figure size 432x288 with 1 Axes>"
      ]
     },
     "metadata": {
      "needs_background": "light"
     },
     "output_type": "display_data"
    }
   ],
   "source": [
    "sns.scatterplot(x=data['infant deaths'],y=data['Population']);"
   ]
  },
  {
   "cell_type": "code",
   "execution_count": 124,
   "metadata": {},
   "outputs": [],
   "source": [
    "def impute_population(c):\n",
    "    p=c[0]\n",
    "    i=c[1]\n",
    "    if pd.isnull(p):\n",
    "        if i<=100:\n",
    "            return 0.19*((10)**9)\n",
    "        elif 100<i<=250:\n",
    "            return 0.18*((10)**9)\n",
    "        elif 250<i<=350:\n",
    "            return 0.02*((10)**9)\n",
    "        elif 350<i<=900:\n",
    "            return 0.1*((10)**9)\n",
    "        elif 900<i<=1100:\n",
    "            return 0.18*((10)**9)\n",
    "        elif 1100<i<=1250:\n",
    "            return 0.05*((10)**9)\n",
    "        elif 1250<i<=1500:\n",
    "            return 0.19*((10)**9)\n",
    "        elif 1500<i<=1750:\n",
    "            return 0.05*((10)**9)\n",
    "        elif i>1750:\n",
    "            return 0.1*((10)**9)\n",
    "    else:\n",
    "        return p\n",
    "    \n",
    "data['Population']=data[['Population','infant deaths']].apply(impute_population,axis=1)"
   ]
  },
  {
   "cell_type": "code",
   "execution_count": 128,
   "metadata": {},
   "outputs": [
    {
     "data": {
      "image/png": "[encoded data removed]",
      "text/plain": [
       "<Figure size 432x288 with 1 Axes>"
      ]
     },
     "metadata": {
      "needs_background": "light"
     },
     "output_type": "display_data"
    }
   ],
   "source": [
    "sns.scatterplot(x=data[' BMI '],y=data[' thinness  1-19 years']);"
   ]
  },
  {
   "cell_type": "code",
   "execution_count": 131,
   "metadata": {},
   "outputs": [],
   "source": [
    "def impute_Thin_1(c):\n",
    "    t=c[0]\n",
    "    b=c[1]\n",
    "    if pd.isnull(t):\n",
    "        if b<=10:\n",
    "            return 5.0\n",
    "        elif 10<b<=20:\n",
    "            return 10.0\n",
    "        elif 20<b<=30:\n",
    "            return 8.0\n",
    "        elif 30<b<=40:\n",
    "            return 6.0\n",
    "        elif 40<b<=50:\n",
    "            return 3.0\n",
    "        elif 50<b<=70:\n",
    "            return 4.0\n",
    "        elif b>70:\n",
    "            return 1.0\n",
    "    else:\n",
    "        return t\n",
    "    \n",
    "data[' thinness  1-19 years']=data[[' thinness  1-19 years',' BMI ']].apply(impute_Thin_1,axis=1)"
   ]
  },
  {
   "cell_type": "code",
   "execution_count": 137,
   "metadata": {},
   "outputs": [
    {
     "data": {
      "image/png": "[encoded data removed]",
      "text/plain": [
       "<Figure size 432x288 with 1 Axes>"
      ]
     },
     "metadata": {
      "needs_background": "light"
     },
     "output_type": "display_data"
    }
   ],
   "source": [
    "sns.scatterplot(x=data[' BMI '],y=data[' thinness 5-9 years']);"
   ]
  },
  {
   "cell_type": "code",
   "execution_count": 136,
   "metadata": {},
   "outputs": [],
   "source": [
    "def impute_Thin_1(c):\n",
    "    t=c[0]\n",
    "    b=c[1]\n",
    "    if pd.isnull(t):\n",
    "        if b<=10:\n",
    "            return 5.0\n",
    "        elif 10<b<=20:\n",
    "            return 10.0\n",
    "        elif 20<b<=30:\n",
    "            return 8.0\n",
    "        elif 30<b<=40:\n",
    "            return 6.0\n",
    "        elif 40<b<=50:\n",
    "            return 3.0\n",
    "        elif 50<b<=70:\n",
    "            return 4.0\n",
    "        elif b>70:\n",
    "            return 1.0\n",
    "    else:\n",
    "        return t\n",
    "    \n",
    "data[' thinness 5-9 years']=data[[' thinness 5-9 years',' BMI ']].apply(impute_Thin_1,axis=1)"
   ]
  },
  {
   "cell_type": "code",
   "execution_count": 146,
   "metadata": {},
   "outputs": [
    {
     "data": {
      "image/png": "[encoded data removed]",
      "text/plain": [
       "<Figure size 432x288 with 1 Axes>"
      ]
     },
     "metadata": {
      "needs_background": "light"
     },
     "output_type": "display_data"
    }
   ],
   "source": [
    "sns.scatterplot(x=data['Life expectancy '],y=data['Income composition of resources']);"
   ]
  },
  {
   "cell_type": "code",
   "execution_count": 145,
   "metadata": {},
   "outputs": [],
   "source": [
    "def impute_Income(c):\n",
    "    i=c[0]\n",
    "    l=c[1]\n",
    "    if pd.isnull(i):\n",
    "        if l<=40:\n",
    "            return 0.4\n",
    "        elif 40<l<=50:\n",
    "            return 0.42\n",
    "        elif 50<l<=60:\n",
    "            return 0.402\n",
    "        elif 60<l<=70:\n",
    "            return 0.54\n",
    "        elif 70<l<=80:\n",
    "            return 0.71\n",
    "        elif l>80:\n",
    "            return 0.88\n",
    "    else:\n",
    "        return i\n",
    "        \n",
    "data['Income composition of resources']=data[['Income composition of resources','Life expectancy ']].apply(impute_Income,axis=1)      "
   ]
  },
  {
   "cell_type": "code",
   "execution_count": 147,
   "metadata": {},
   "outputs": [
    {
     "data": {
      "image/png": "[encoded data removed]",
      "text/plain": [
       "<Figure size 432x288 with 1 Axes>"
      ]
     },
     "metadata": {
      "needs_background": "light"
     },
     "output_type": "display_data"
    }
   ],
   "source": [
    "sns.scatterplot(x=data['Life expectancy '],y=data['Schooling']);"
   ]
  },
  {
   "cell_type": "code",
   "execution_count": 153,
   "metadata": {},
   "outputs": [],
   "source": [
    "def impute_schooling(c):\n",
    "    s=c[0]\n",
    "    l=c[1]\n",
    "    if pd.isnull(s):\n",
    "        if l<= 40:\n",
    "            return 8.0\n",
    "        elif 40<l<=44:\n",
    "            return 7.5\n",
    "        elif 44<l<50:\n",
    "            return 8.1\n",
    "        elif 50<l<=60:\n",
    "            return 8.2\n",
    "        elif 60<l<=70:\n",
    "            return 10.5\n",
    "        elif 70<l<=80:\n",
    "            return 13.4\n",
    "        elif l>80:\n",
    "            return 16.5\n",
    "    else:\n",
    "        return s\n",
    "    \n",
    "data['Schooling']=data[['Schooling','Life expectancy ']].apply(impute_schooling,axis=1)"
   ]
  },
  {
   "cell_type": "code",
   "execution_count": 152,
   "metadata": {},
   "outputs": [
    {
     "data": {
      "text/plain": [
       "16.510504201680675"
      ]
     },
     "execution_count": 152,
     "metadata": {},
     "output_type": "execute_result"
    }
   ],
   "source": [
    "data[(data['Life expectancy ']>80) & (data['Life expectancy ']<=90)]['Schooling'].mean()\n",
    "\n",
    "# Example of how iam deciding values for filling Nans above\n",
    "# You can see above in range above 80 we got avg. as 16.5 so we have imputed it that way."
   ]
  },
  {
   "cell_type": "markdown",
   "metadata": {},
   "source": [
    "Now as we have finished filling Nans lets have a look at that null_df which shows no. of Nans."
   ]
  },
  {
   "cell_type": "code",
   "execution_count": 154,
   "metadata": {},
   "outputs": [
    {
     "data": {
      "text/html": [
       "<div>\n",
       "<style scoped>\n",
       "    .dataframe tbody tr th:only-of-type {\n",
       "        vertical-align: middle;\n",
       "    }\n",
       "\n",
       "    .dataframe tbody tr th {\n",
       "        vertical-align: top;\n",
       "    }\n",
       "\n",
       "    .dataframe thead th {\n",
       "        text-align: right;\n",
       "    }\n",
       "</style>\n",
       "<table border=\"1\" class=\"dataframe\">\n",
       "  <thead>\n",
       "    <tr style=\"text-align: right;\">\n",
       "      <th></th>\n",
       "      <th>Feature name</th>\n",
       "      <th>no. of Nan</th>\n",
       "    </tr>\n",
       "  </thead>\n",
       "  <tbody>\n",
       "    <tr>\n",
       "      <td>0</td>\n",
       "      <td>Country</td>\n",
       "      <td>0</td>\n",
       "    </tr>\n",
       "    <tr>\n",
       "      <td>1</td>\n",
       "      <td>Year</td>\n",
       "      <td>0</td>\n",
       "    </tr>\n",
       "    <tr>\n",
       "      <td>2</td>\n",
       "      <td>Status</td>\n",
       "      <td>0</td>\n",
       "    </tr>\n",
       "    <tr>\n",
       "      <td>3</td>\n",
       "      <td>Life expectancy</td>\n",
       "      <td>0</td>\n",
       "    </tr>\n",
       "    <tr>\n",
       "      <td>4</td>\n",
       "      <td>Adult Mortality</td>\n",
       "      <td>0</td>\n",
       "    </tr>\n",
       "    <tr>\n",
       "      <td>5</td>\n",
       "      <td>infant deaths</td>\n",
       "      <td>0</td>\n",
       "    </tr>\n",
       "    <tr>\n",
       "      <td>6</td>\n",
       "      <td>Alcohol</td>\n",
       "      <td>0</td>\n",
       "    </tr>\n",
       "    <tr>\n",
       "      <td>7</td>\n",
       "      <td>percentage expenditure</td>\n",
       "      <td>0</td>\n",
       "    </tr>\n",
       "    <tr>\n",
       "      <td>8</td>\n",
       "      <td>Hepatitis B</td>\n",
       "      <td>0</td>\n",
       "    </tr>\n",
       "    <tr>\n",
       "      <td>9</td>\n",
       "      <td>Measles</td>\n",
       "      <td>0</td>\n",
       "    </tr>\n",
       "    <tr>\n",
       "      <td>10</td>\n",
       "      <td>BMI</td>\n",
       "      <td>0</td>\n",
       "    </tr>\n",
       "    <tr>\n",
       "      <td>11</td>\n",
       "      <td>under-five deaths</td>\n",
       "      <td>0</td>\n",
       "    </tr>\n",
       "    <tr>\n",
       "      <td>12</td>\n",
       "      <td>Polio</td>\n",
       "      <td>0</td>\n",
       "    </tr>\n",
       "    <tr>\n",
       "      <td>13</td>\n",
       "      <td>Total expenditure</td>\n",
       "      <td>0</td>\n",
       "    </tr>\n",
       "    <tr>\n",
       "      <td>14</td>\n",
       "      <td>Diphtheria</td>\n",
       "      <td>0</td>\n",
       "    </tr>\n",
       "    <tr>\n",
       "      <td>15</td>\n",
       "      <td>HIV/AIDS</td>\n",
       "      <td>0</td>\n",
       "    </tr>\n",
       "    <tr>\n",
       "      <td>16</td>\n",
       "      <td>GDP</td>\n",
       "      <td>0</td>\n",
       "    </tr>\n",
       "    <tr>\n",
       "      <td>17</td>\n",
       "      <td>thinness  1-19 years</td>\n",
       "      <td>0</td>\n",
       "    </tr>\n",
       "    <tr>\n",
       "      <td>18</td>\n",
       "      <td>thinness 5-9 years</td>\n",
       "      <td>0</td>\n",
       "    </tr>\n",
       "    <tr>\n",
       "      <td>19</td>\n",
       "      <td>Income composition of resources</td>\n",
       "      <td>0</td>\n",
       "    </tr>\n",
       "    <tr>\n",
       "      <td>20</td>\n",
       "      <td>Schooling</td>\n",
       "      <td>0</td>\n",
       "    </tr>\n",
       "    <tr>\n",
       "      <td>21</td>\n",
       "      <td>Population</td>\n",
       "      <td>0</td>\n",
       "    </tr>\n",
       "  </tbody>\n",
       "</table>\n",
       "</div>"
      ],
      "text/plain": [
       "                       Feature name  no. of Nan\n",
       "0                           Country           0\n",
       "1                              Year           0\n",
       "2                            Status           0\n",
       "3                  Life expectancy            0\n",
       "4                   Adult Mortality           0\n",
       "5                     infant deaths           0\n",
       "6                           Alcohol           0\n",
       "7            percentage expenditure           0\n",
       "8                       Hepatitis B           0\n",
       "9                          Measles            0\n",
       "10                             BMI            0\n",
       "11               under-five deaths            0\n",
       "12                            Polio           0\n",
       "13                Total expenditure           0\n",
       "14                      Diphtheria            0\n",
       "15                         HIV/AIDS           0\n",
       "16                              GDP           0\n",
       "17             thinness  1-19 years           0\n",
       "18               thinness 5-9 years           0\n",
       "19  Income composition of resources           0\n",
       "20                        Schooling           0\n",
       "21                       Population           0"
      ]
     },
     "execution_count": 154,
     "metadata": {},
     "output_type": "execute_result"
    }
   ],
   "source": [
    "a=list(data.columns)\n",
    "b=[]\n",
    "for i in a:\n",
    "    c=data[i].isnull().sum()\n",
    "    b.append(c)\n",
    "null_df=pd.DataFrame({'Feature name':a,'no. of Nan':b})\n",
    "null_df"
   ]
  },
  {
   "cell_type": "markdown",
   "metadata": {},
   "source": [
    "Now none of them above features have Nans in them, Let us split the dataset and look for fitting a model."
   ]
  },
  {
   "cell_type": "markdown",
   "metadata": {},
   "source": [
    "As we are predicting Life Expectancy our 'Target'(y) variable will be 'Life expectancy'. And remaining attributes would be considered as X or Predictors."
   ]
  },
  {
   "cell_type": "markdown",
   "metadata": {},
   "source": [
    "Let us check our Target Variable, also its distribution."
   ]
  },
  {
   "cell_type": "code",
   "execution_count": 155,
   "metadata": {},
   "outputs": [],
   "source": [
    "y=data['Life expectancy ']"
   ]
  },
  {
   "cell_type": "code",
   "execution_count": 157,
   "metadata": {},
   "outputs": [
    {
     "data": {
      "image/png": "[encoded data removed]",
      "text/plain": [
       "<Figure size 432x288 with 1 Axes>"
      ]
     },
     "metadata": {
      "needs_background": "light"
     },
     "output_type": "display_data"
    }
   ],
   "source": [
    "sns.distplot(y);"
   ]
  },
  {
   "cell_type": "markdown",
   "metadata": {},
   "source": [
    "It almost have a normal distribution with negative skew."
   ]
  },
  {
   "cell_type": "markdown",
   "metadata": {},
   "source": [
    "lets check our X or Predictors dataset."
   ]
  },
  {
   "cell_type": "code",
   "execution_count": 164,
   "metadata": {},
   "outputs": [],
   "source": [
    "X=data.drop('Life expectancy ',axis=1)"
   ]
  },
  {
   "cell_type": "markdown",
   "metadata": {},
   "source": [
    "lets see info of our X data."
   ]
  },
  {
   "cell_type": "code",
   "execution_count": 165,
   "metadata": {},
   "outputs": [
    {
     "name": "stdout",
     "output_type": "stream",
     "text": [
      "<class 'pandas.core.frame.DataFrame'>\n",
      "RangeIndex: 2938 entries, 0 to 2937\n",
      "Data columns (total 21 columns):\n",
      "Country                            2938 non-null object\n",
      "Year                               2938 non-null int64\n",
      "Status                             2938 non-null object\n",
      "Adult Mortality                    2938 non-null float64\n",
      "infant deaths                      2938 non-null int64\n",
      "Alcohol                            2938 non-null float64\n",
      "percentage expenditure             2938 non-null float64\n",
      "Hepatitis B                        2938 non-null float64\n",
      "Measles                            2938 non-null int64\n",
      " BMI                               2938 non-null float64\n",
      "under-five deaths                  2938 non-null int64\n",
      "Polio                              2938 non-null float64\n",
      "Total expenditure                  2938 non-null float64\n",
      "Diphtheria                         2938 non-null float64\n",
      " HIV/AIDS                          2938 non-null float64\n",
      "GDP                                2938 non-null float64\n",
      " thinness  1-19 years              2938 non-null float64\n",
      " thinness 5-9 years                2938 non-null float64\n",
      "Income composition of resources    2938 non-null float64\n",
      "Schooling                          2938 non-null float64\n",
      "Population                         2938 non-null float64\n",
      "dtypes: float64(15), int64(4), object(2)\n",
      "memory usage: 482.1+ KB\n"
     ]
    }
   ],
   "source": [
    "X.info()"
   ]
  },
  {
   "cell_type": "markdown",
   "metadata": {},
   "source": [
    "Oops! There are 'object' type of features in our Predictor(X) dataset. Lets explore them and try to convert them into numericals."
   ]
  },
  {
   "cell_type": "code",
   "execution_count": 166,
   "metadata": {},
   "outputs": [
    {
     "data": {
      "text/plain": [
       "0       Afghanistan\n",
       "1       Afghanistan\n",
       "2       Afghanistan\n",
       "3       Afghanistan\n",
       "4       Afghanistan\n",
       "           ...     \n",
       "2933       Zimbabwe\n",
       "2934       Zimbabwe\n",
       "2935       Zimbabwe\n",
       "2936       Zimbabwe\n",
       "2937       Zimbabwe\n",
       "Name: Country, Length: 2938, dtype: object"
      ]
     },
     "execution_count": 166,
     "metadata": {},
     "output_type": "execute_result"
    }
   ],
   "source": [
    "X['Country']"
   ]
  },
  {
   "cell_type": "code",
   "execution_count": 169,
   "metadata": {},
   "outputs": [
    {
     "data": {
      "text/plain": [
       "array(['Afghanistan', 'Albania', 'Algeria', 'Angola',\n",
       "       'Antigua and Barbuda', 'Argentina', 'Armenia', 'Australia',\n",
       "       'Austria', 'Azerbaijan', 'Bahamas', 'Bahrain', 'Bangladesh',\n",
       "       'Barbados', 'Belarus', 'Belgium', 'Belize', 'Benin', 'Bhutan',\n",
       "       'Bolivia (Plurinational State of)', 'Bosnia and Herzegovina',\n",
       "       'Botswana', 'Brazil', 'Brunei Darussalam', 'Bulgaria',\n",
       "       'Burkina Faso', 'Burundi', \"Côte d'Ivoire\", 'Cabo Verde',\n",
       "       'Cambodia', 'Cameroon', 'Canada', 'Central African Republic',\n",
       "       'Chad', 'Chile', 'China', 'Colombia', 'Comoros', 'Congo',\n",
       "       'Cook Islands', 'Costa Rica', 'Croatia', 'Cuba', 'Cyprus',\n",
       "       'Czechia', \"Democratic People's Republic of Korea\",\n",
       "       'Democratic Republic of the Congo', 'Denmark', 'Djibouti',\n",
       "       'Dominica', 'Dominican Republic', 'Ecuador', 'Egypt',\n",
       "       'El Salvador', 'Equatorial Guinea', 'Eritrea', 'Estonia',\n",
       "       'Ethiopia', 'Fiji', 'Finland', 'France', 'Gabon', 'Gambia',\n",
       "       'Georgia', 'Germany', 'Ghana', 'Greece', 'Grenada', 'Guatemala',\n",
       "       'Guinea', 'Guinea-Bissau', 'Guyana', 'Haiti', 'Honduras',\n",
       "       'Hungary', 'Iceland', 'India', 'Indonesia',\n",
       "       'Iran (Islamic Republic of)', 'Iraq', 'Ireland', 'Israel', 'Italy',\n",
       "       'Jamaica', 'Japan', 'Jordan', 'Kazakhstan', 'Kenya', 'Kiribati',\n",
       "       'Kuwait', 'Kyrgyzstan', \"Lao People's Democratic Republic\",\n",
       "       'Latvia', 'Lebanon', 'Lesotho', 'Liberia', 'Libya', 'Lithuania',\n",
       "       'Luxembourg', 'Madagascar', 'Malawi', 'Malaysia', 'Maldives',\n",
       "       'Mali', 'Malta', 'Marshall Islands', 'Mauritania', 'Mauritius',\n",
       "       'Mexico', 'Micronesia (Federated States of)', 'Monaco', 'Mongolia',\n",
       "       'Montenegro', 'Morocco', 'Mozambique', 'Myanmar', 'Namibia',\n",
       "       'Nauru', 'Nepal', 'Netherlands', 'New Zealand', 'Nicaragua',\n",
       "       'Niger', 'Nigeria', 'Niue', 'Norway', 'Oman', 'Pakistan', 'Palau',\n",
       "       'Panama', 'Papua New Guinea', 'Paraguay', 'Peru', 'Philippines',\n",
       "       'Poland', 'Portugal', 'Qatar', 'Republic of Korea',\n",
       "       'Republic of Moldova', 'Romania', 'Russian Federation', 'Rwanda',\n",
       "       'Saint Kitts and Nevis', 'Saint Lucia',\n",
       "       'Saint Vincent and the Grenadines', 'Samoa', 'San Marino',\n",
       "       'Sao Tome and Principe', 'Saudi Arabia', 'Senegal', 'Serbia',\n",
       "       'Seychelles', 'Sierra Leone', 'Singapore', 'Slovakia', 'Slovenia',\n",
       "       'Solomon Islands', 'Somalia', 'South Africa', 'South Sudan',\n",
       "       'Spain', 'Sri Lanka', 'Sudan', 'Suriname', 'Swaziland', 'Sweden',\n",
       "       'Switzerland', 'Syrian Arab Republic', 'Tajikistan', 'Thailand',\n",
       "       'The former Yugoslav republic of Macedonia', 'Timor-Leste', 'Togo',\n",
       "       'Tonga', 'Trinidad and Tobago', 'Tunisia', 'Turkey',\n",
       "       'Turkmenistan', 'Tuvalu', 'Uganda', 'Ukraine',\n",
       "       'United Arab Emirates',\n",
       "       'United Kingdom of Great Britain and Northern Ireland',\n",
       "       'United Republic of Tanzania', 'United States of America',\n",
       "       'Uruguay', 'Uzbekistan', 'Vanuatu',\n",
       "       'Venezuela (Bolivarian Republic of)', 'Viet Nam', 'Yemen',\n",
       "       'Zambia', 'Zimbabwe'], dtype=object)"
      ]
     },
     "execution_count": 169,
     "metadata": {},
     "output_type": "execute_result"
    }
   ],
   "source": [
    "# Lets see unique values of this feature.\n",
    "\n",
    "X['Country'].unique()"
   ]
  },
  {
   "cell_type": "code",
   "execution_count": 171,
   "metadata": {},
   "outputs": [
    {
     "data": {
      "text/plain": [
       "193"
      ]
     },
     "execution_count": 171,
     "metadata": {},
     "output_type": "execute_result"
    }
   ],
   "source": [
    "# Lets see number of unique values.\n",
    "X['Country'].nunique()"
   ]
  },
  {
   "cell_type": "code",
   "execution_count": 172,
   "metadata": {},
   "outputs": [
    {
     "data": {
      "text/plain": [
       "array(['Developing', 'Developed'], dtype=object)"
      ]
     },
     "execution_count": 172,
     "metadata": {},
     "output_type": "execute_result"
    }
   ],
   "source": [
    "# Lets have look at the other object type feature.\n",
    "X['Status'].unique()"
   ]
  },
  {
   "cell_type": "markdown",
   "metadata": {},
   "source": [
    "We can create dummy variables for this objects to fit well in the model. Lets build the dummy variables."
   ]
  },
  {
   "cell_type": "code",
   "execution_count": 174,
   "metadata": {},
   "outputs": [],
   "source": [
    "Country_dummy=pd.get_dummies(X['Country'])\n",
    "# Dummy variables for Country feature."
   ]
  },
  {
   "cell_type": "code",
   "execution_count": 175,
   "metadata": {},
   "outputs": [],
   "source": [
    "status_dummy=pd.get_dummies(X['Status'])\n",
    "# Dummy variables for status feature."
   ]
  },
  {
   "cell_type": "markdown",
   "metadata": {},
   "source": [
    "Now lets concatenate these 'Dummies' with our X dataset."
   ]
  },
  {
   "cell_type": "markdown",
   "metadata": {},
   "source": [
    "firstly lets drop those two object features and then concatenate it."
   ]
  },
  {
   "cell_type": "code",
   "execution_count": 176,
   "metadata": {},
   "outputs": [],
   "source": [
    "X.drop(['Country','Status'],inplace=True,axis=1)"
   ]
  },
  {
   "cell_type": "code",
   "execution_count": 177,
   "metadata": {},
   "outputs": [],
   "source": [
    "X=pd.concat([X,Country_dummy,status_dummy],axis=1)"
   ]
  },
  {
   "cell_type": "code",
   "execution_count": 178,
   "metadata": {},
   "outputs": [
    {
     "name": "stdout",
     "output_type": "stream",
     "text": [
      "<class 'pandas.core.frame.DataFrame'>\n",
      "RangeIndex: 2938 entries, 0 to 2937\n",
      "Columns: 214 entries, Year to Developing\n",
      "dtypes: float64(15), int64(4), uint8(195)\n",
      "memory usage: 995.7 KB\n"
     ]
    }
   ],
   "source": [
    "X.info()"
   ]
  },
  {
   "cell_type": "code",
   "execution_count": 179,
   "metadata": {},
   "outputs": [
    {
     "data": {
      "text/html": [
       "<div>\n",
       "<style scoped>\n",
       "    .dataframe tbody tr th:only-of-type {\n",
       "        vertical-align: middle;\n",
       "    }\n",
       "\n",
       "    .dataframe tbody tr th {\n",
       "        vertical-align: top;\n",
       "    }\n",
       "\n",
       "    .dataframe thead th {\n",
       "        text-align: right;\n",
       "    }\n",
       "</style>\n",
       "<table border=\"1\" class=\"dataframe\">\n",
       "  <thead>\n",
       "    <tr style=\"text-align: right;\">\n",
       "      <th></th>\n",
       "      <th>Year</th>\n",
       "      <th>Adult Mortality</th>\n",
       "      <th>infant deaths</th>\n",
       "      <th>Alcohol</th>\n",
       "      <th>percentage expenditure</th>\n",
       "      <th>Hepatitis B</th>\n",
       "      <th>Measles</th>\n",
       "      <th>BMI</th>\n",
       "      <th>under-five deaths</th>\n",
       "      <th>Polio</th>\n",
       "      <th>...</th>\n",
       "      <th>Uruguay</th>\n",
       "      <th>Uzbekistan</th>\n",
       "      <th>Vanuatu</th>\n",
       "      <th>Venezuela (Bolivarian Republic of)</th>\n",
       "      <th>Viet Nam</th>\n",
       "      <th>Yemen</th>\n",
       "      <th>Zambia</th>\n",
       "      <th>Zimbabwe</th>\n",
       "      <th>Developed</th>\n",
       "      <th>Developing</th>\n",
       "    </tr>\n",
       "  </thead>\n",
       "  <tbody>\n",
       "    <tr>\n",
       "      <td>0</td>\n",
       "      <td>2015</td>\n",
       "      <td>263.0</td>\n",
       "      <td>62</td>\n",
       "      <td>0.01</td>\n",
       "      <td>71.279624</td>\n",
       "      <td>65.0</td>\n",
       "      <td>1154</td>\n",
       "      <td>19.1</td>\n",
       "      <td>83</td>\n",
       "      <td>6.0</td>\n",
       "      <td>...</td>\n",
       "      <td>0</td>\n",
       "      <td>0</td>\n",
       "      <td>0</td>\n",
       "      <td>0</td>\n",
       "      <td>0</td>\n",
       "      <td>0</td>\n",
       "      <td>0</td>\n",
       "      <td>0</td>\n",
       "      <td>0</td>\n",
       "      <td>1</td>\n",
       "    </tr>\n",
       "    <tr>\n",
       "      <td>1</td>\n",
       "      <td>2014</td>\n",
       "      <td>271.0</td>\n",
       "      <td>64</td>\n",
       "      <td>0.01</td>\n",
       "      <td>73.523582</td>\n",
       "      <td>62.0</td>\n",
       "      <td>492</td>\n",
       "      <td>18.6</td>\n",
       "      <td>86</td>\n",
       "      <td>58.0</td>\n",
       "      <td>...</td>\n",
       "      <td>0</td>\n",
       "      <td>0</td>\n",
       "      <td>0</td>\n",
       "      <td>0</td>\n",
       "      <td>0</td>\n",
       "      <td>0</td>\n",
       "      <td>0</td>\n",
       "      <td>0</td>\n",
       "      <td>0</td>\n",
       "      <td>1</td>\n",
       "    </tr>\n",
       "    <tr>\n",
       "      <td>2</td>\n",
       "      <td>2013</td>\n",
       "      <td>268.0</td>\n",
       "      <td>66</td>\n",
       "      <td>0.01</td>\n",
       "      <td>73.219243</td>\n",
       "      <td>64.0</td>\n",
       "      <td>430</td>\n",
       "      <td>18.1</td>\n",
       "      <td>89</td>\n",
       "      <td>62.0</td>\n",
       "      <td>...</td>\n",
       "      <td>0</td>\n",
       "      <td>0</td>\n",
       "      <td>0</td>\n",
       "      <td>0</td>\n",
       "      <td>0</td>\n",
       "      <td>0</td>\n",
       "      <td>0</td>\n",
       "      <td>0</td>\n",
       "      <td>0</td>\n",
       "      <td>1</td>\n",
       "    </tr>\n",
       "    <tr>\n",
       "      <td>3</td>\n",
       "      <td>2012</td>\n",
       "      <td>272.0</td>\n",
       "      <td>69</td>\n",
       "      <td>0.01</td>\n",
       "      <td>78.184215</td>\n",
       "      <td>67.0</td>\n",
       "      <td>2787</td>\n",
       "      <td>17.6</td>\n",
       "      <td>93</td>\n",
       "      <td>67.0</td>\n",
       "      <td>...</td>\n",
       "      <td>0</td>\n",
       "      <td>0</td>\n",
       "      <td>0</td>\n",
       "      <td>0</td>\n",
       "      <td>0</td>\n",
       "      <td>0</td>\n",
       "      <td>0</td>\n",
       "      <td>0</td>\n",
       "      <td>0</td>\n",
       "      <td>1</td>\n",
       "    </tr>\n",
       "    <tr>\n",
       "      <td>4</td>\n",
       "      <td>2011</td>\n",
       "      <td>275.0</td>\n",
       "      <td>71</td>\n",
       "      <td>0.01</td>\n",
       "      <td>7.097109</td>\n",
       "      <td>68.0</td>\n",
       "      <td>3013</td>\n",
       "      <td>17.2</td>\n",
       "      <td>97</td>\n",
       "      <td>68.0</td>\n",
       "      <td>...</td>\n",
       "      <td>0</td>\n",
       "      <td>0</td>\n",
       "      <td>0</td>\n",
       "      <td>0</td>\n",
       "      <td>0</td>\n",
       "      <td>0</td>\n",
       "      <td>0</td>\n",
       "      <td>0</td>\n",
       "      <td>0</td>\n",
       "      <td>1</td>\n",
       "    </tr>\n",
       "  </tbody>\n",
       "</table>\n",
       "<p>5 rows × 214 columns</p>\n",
       "</div>"
      ],
      "text/plain": [
       "   Year  Adult Mortality  infant deaths  Alcohol  percentage expenditure  \\\n",
       "0  2015            263.0             62     0.01               71.279624   \n",
       "1  2014            271.0             64     0.01               73.523582   \n",
       "2  2013            268.0             66     0.01               73.219243   \n",
       "3  2012            272.0             69     0.01               78.184215   \n",
       "4  2011            275.0             71     0.01                7.097109   \n",
       "\n",
       "   Hepatitis B  Measles    BMI   under-five deaths   Polio  ...  Uruguay  \\\n",
       "0         65.0      1154   19.1                  83    6.0  ...        0   \n",
       "1         62.0       492   18.6                  86   58.0  ...        0   \n",
       "2         64.0       430   18.1                  89   62.0  ...        0   \n",
       "3         67.0      2787   17.6                  93   67.0  ...        0   \n",
       "4         68.0      3013   17.2                  97   68.0  ...        0   \n",
       "\n",
       "   Uzbekistan  Vanuatu  Venezuela (Bolivarian Republic of)  Viet Nam  Yemen  \\\n",
       "0           0        0                                   0         0      0   \n",
       "1           0        0                                   0         0      0   \n",
       "2           0        0                                   0         0      0   \n",
       "3           0        0                                   0         0      0   \n",
       "4           0        0                                   0         0      0   \n",
       "\n",
       "   Zambia  Zimbabwe  Developed  Developing  \n",
       "0       0         0          0           1  \n",
       "1       0         0          0           1  \n",
       "2       0         0          0           1  \n",
       "3       0         0          0           1  \n",
       "4       0         0          0           1  \n",
       "\n",
       "[5 rows x 214 columns]"
      ]
     },
     "execution_count": 179,
     "metadata": {},
     "output_type": "execute_result"
    }
   ],
   "source": [
    "X.head()"
   ]
  },
  {
   "cell_type": "markdown",
   "metadata": {},
   "source": [
    "Now this looks good we have about 214 columns."
   ]
  },
  {
   "cell_type": "markdown",
   "metadata": {},
   "source": [
    "Now lets split the model"
   ]
  },
  {
   "cell_type": "code",
   "execution_count": 180,
   "metadata": {},
   "outputs": [],
   "source": [
    "from sklearn.model_selection import train_test_split"
   ]
  },
  {
   "cell_type": "code",
   "execution_count": 181,
   "metadata": {},
   "outputs": [],
   "source": [
    "# Lets set 30% for testing and 70% for training the model.\n",
    "\n",
    "X_train, X_test, y_train, y_test = train_test_split(X, y, test_size=0.30, random_state=101)"
   ]
  },
  {
   "cell_type": "markdown",
   "metadata": {},
   "source": [
    "Lets solve this problem by using Linear Regression and see what it gives us."
   ]
  },
  {
   "cell_type": "code",
   "execution_count": 182,
   "metadata": {},
   "outputs": [],
   "source": [
    "from sklearn.linear_model import LinearRegression"
   ]
  },
  {
   "cell_type": "code",
   "execution_count": 183,
   "metadata": {},
   "outputs": [],
   "source": [
    "Linear_model= LinearRegression()"
   ]
  },
  {
   "cell_type": "code",
   "execution_count": 184,
   "metadata": {},
   "outputs": [
    {
     "data": {
      "text/plain": [
       "LinearRegression(copy_X=True, fit_intercept=True, n_jobs=None, normalize=False)"
      ]
     },
     "execution_count": 184,
     "metadata": {},
     "output_type": "execute_result"
    }
   ],
   "source": [
    "Linear_model.fit(X_train,y_train)"
   ]
  },
  {
   "cell_type": "markdown",
   "metadata": {},
   "source": [
    "We have fit our model, Now lets go for testing !"
   ]
  },
  {
   "cell_type": "code",
   "execution_count": 185,
   "metadata": {},
   "outputs": [],
   "source": [
    "predictions1=Linear_model.predict(X_test)\n",
    "\n",
    "# Naming it predictions1 because we are going to use some more models now."
   ]
  },
  {
   "cell_type": "markdown",
   "metadata": {},
   "source": [
    "Looks like we have got our predictions, lets have a look at our predictions."
   ]
  },
  {
   "cell_type": "code",
   "execution_count": 188,
   "metadata": {},
   "outputs": [
    {
     "data": {
      "text/plain": [
       "array([52.900033  , 54.39454263, 83.57223713, 63.42111731, 73.59599193,\n",
       "       72.44789192, 69.22029905, 80.42833598, 60.73071365, 82.95627359])"
      ]
     },
     "execution_count": 188,
     "metadata": {},
     "output_type": "execute_result"
    }
   ],
   "source": [
    "predictions1[0:10]\n",
    "\n",
    "# First 10 predictions."
   ]
  },
  {
   "cell_type": "markdown",
   "metadata": {},
   "source": [
    "Looks good but we do need some metrics to evaluate our model. In this Regression tasks nothing better than using RMSE. Lets Examine our model using RMSE."
   ]
  },
  {
   "cell_type": "code",
   "execution_count": 189,
   "metadata": {},
   "outputs": [],
   "source": [
    "from sklearn.metrics import mean_squared_error"
   ]
  },
  {
   "cell_type": "code",
   "execution_count": 190,
   "metadata": {},
   "outputs": [
    {
     "name": "stdout",
     "output_type": "stream",
     "text": [
      "1.9152516643024136\n"
     ]
    }
   ],
   "source": [
    "print(mean_squared_error(y_test,predictions1)**(0.5))"
   ]
  },
  {
   "cell_type": "markdown",
   "metadata": {},
   "source": [
    "Now lets have a looks at its R Square Value."
   ]
  },
  {
   "cell_type": "code",
   "execution_count": 192,
   "metadata": {},
   "outputs": [],
   "source": [
    "from sklearn.metrics import r2_score"
   ]
  },
  {
   "cell_type": "code",
   "execution_count": 193,
   "metadata": {},
   "outputs": [
    {
     "data": {
      "text/plain": [
       "0.9576136114740448"
      ]
     },
     "execution_count": 193,
     "metadata": {},
     "output_type": "execute_result"
    }
   ],
   "source": [
    "r2_score(y_test,predictions1)"
   ]
  },
  {
   "cell_type": "markdown",
   "metadata": {},
   "source": [
    "Looks like pretty good score ! Now lets see how it works if we use Ridge and Lasso Regression models."
   ]
  },
  {
   "cell_type": "code",
   "execution_count": 199,
   "metadata": {},
   "outputs": [],
   "source": [
    "from sklearn.linear_model import Ridge"
   ]
  },
  {
   "cell_type": "code",
   "execution_count": 200,
   "metadata": {},
   "outputs": [],
   "source": [
    "ridge_model=Ridge()"
   ]
  },
  {
   "cell_type": "code",
   "execution_count": 202,
   "metadata": {},
   "outputs": [
    {
     "name": "stderr",
     "output_type": "stream",
     "text": [
      "C:\\Users\\hi\\Anaconda3\\lib\\site-packages\\sklearn\\linear_model\\_ridge.py:148: LinAlgWarning: Ill-conditioned matrix (rcond=4.52691e-20): result may not be accurate.\n",
      "  overwrite_a=True).T\n"
     ]
    },
    {
     "data": {
      "text/plain": [
       "Ridge(alpha=1.0, copy_X=True, fit_intercept=True, max_iter=None,\n",
       "      normalize=False, random_state=None, solver='auto', tol=0.001)"
      ]
     },
     "execution_count": 202,
     "metadata": {},
     "output_type": "execute_result"
    }
   ],
   "source": [
    "ridge_model.fit(X_train,y_train)"
   ]
  },
  {
   "cell_type": "code",
   "execution_count": 203,
   "metadata": {},
   "outputs": [],
   "source": [
    "predictions2=ridge_model.predict(X_test)"
   ]
  },
  {
   "cell_type": "code",
   "execution_count": 204,
   "metadata": {},
   "outputs": [
    {
     "name": "stdout",
     "output_type": "stream",
     "text": [
      "2.202246152327118\n"
     ]
    }
   ],
   "source": [
    "print(mean_squared_error(y_test,predictions2)**(0.5))"
   ]
  },
  {
   "cell_type": "code",
   "execution_count": 205,
   "metadata": {},
   "outputs": [],
   "source": [
    "from sklearn.linear_model import Lasso"
   ]
  },
  {
   "cell_type": "code",
   "execution_count": 232,
   "metadata": {},
   "outputs": [],
   "source": [
    "lasso_model=Lasso(alpha=0.00000001)"
   ]
  },
  {
   "cell_type": "code",
   "execution_count": 233,
   "metadata": {},
   "outputs": [
    {
     "name": "stderr",
     "output_type": "stream",
     "text": [
      "C:\\Users\\hi\\Anaconda3\\lib\\site-packages\\sklearn\\linear_model\\_coordinate_descent.py:476: ConvergenceWarning: Objective did not converge. You might want to increase the number of iterations. Duality gap: 3359.4202402918836, tolerance: 18.904794894028402\n",
      "  positive)\n"
     ]
    },
    {
     "data": {
      "text/plain": [
       "Lasso(alpha=1e-08, copy_X=True, fit_intercept=True, max_iter=1000,\n",
       "      normalize=False, positive=False, precompute=False, random_state=None,\n",
       "      selection='cyclic', tol=0.0001, warm_start=False)"
      ]
     },
     "execution_count": 233,
     "metadata": {},
     "output_type": "execute_result"
    }
   ],
   "source": [
    "lasso_model.fit(X_train,y_train)"
   ]
  },
  {
   "cell_type": "code",
   "execution_count": 234,
   "metadata": {},
   "outputs": [],
   "source": [
    "predictions3=lasso_model.predict(X_test)"
   ]
  },
  {
   "cell_type": "code",
   "execution_count": 235,
   "metadata": {},
   "outputs": [
    {
     "name": "stdout",
     "output_type": "stream",
     "text": [
      "1.8946777784943631\n"
     ]
    }
   ],
   "source": [
    "print(mean_squared_error(y_test,predictions3)**(0.5))"
   ]
  },
  {
   "cell_type": "markdown",
   "metadata": {},
   "source": [
    "We can see Lasso almost all reached Linear regression model by using alpha=0.00000001 that means using Linear Regression is almost all ok."
   ]
  },
  {
   "cell_type": "markdown",
   "metadata": {},
   "source": [
    "### When to choose Linear Regression over Lasso ?"
   ]
  },
  {
   "cell_type": "markdown",
   "metadata": {},
   "source": [
    "- Even though we had good score by using Lasso we choose Linear regression over it."
   ]
  },
  {
   "cell_type": "markdown",
   "metadata": {},
   "source": [
    "- As we choose more generalised method the flexibility in model decreases which indirectly results in the interpretability  of the model."
   ]
  },
  {
   "cell_type": "markdown",
   "metadata": {},
   "source": [
    "- Interpretability in the model is much useful when we are solving problems, where our main goal would be knowing the relations in between the features."
   ]
  },
  {
   "cell_type": "markdown",
   "metadata": {},
   "source": [
    " But Lasso is also very powerful when we have alot of attributes in our data when p>n."
   ]
  },
  {
   "cell_type": "markdown",
   "metadata": {},
   "source": [
    "Where, 'p' stands for no. of features and 'n' stands for no. of observations."
   ]
  },
  {
   "cell_type": "markdown",
   "metadata": {},
   "source": [
    "### Other methods to improve our model:"
   ]
  },
  {
   "cell_type": "markdown",
   "metadata": {},
   "source": [
    "- We can use interactions when the data has alot of correlation in between the features."
   ]
  },
  {
   "cell_type": "markdown",
   "metadata": {},
   "source": [
    "- Some times it is better to have more Adjusted R2, AIC(Akaike information Criterion), BIC(Bayesian information criterion) for judging our model"
   ]
  },
  {
   "cell_type": "markdown",
   "metadata": {},
   "source": [
    "This was all about the project. "
   ]
  },
  {
   "cell_type": "markdown",
   "metadata": {},
   "source": [
    "# THANK YOU !"
   ]
  }
 ],
 "metadata": {
  "kernelspec": {
   "display_name": "Python 3",
   "language": "python",
   "name": "python3"
  },
  "language_info": {
   "codemirror_mode": {
    "name": "ipython",
    "version": 3
   },
   "file_extension": ".py",
   "mimetype": "text/x-python",
   "name": "python",
   "nbconvert_exporter": "python",
   "pygments_lexer": "ipython3",
   "version": "3.7.3"
  }
 },
 "nbformat": 4,
 "nbformat_minor": 2
}
